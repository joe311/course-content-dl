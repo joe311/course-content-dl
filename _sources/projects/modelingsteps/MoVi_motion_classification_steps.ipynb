{
 "nbformat": 4,
 "nbformat_minor": 5,
 "metadata": {
  "kernelspec": {
   "display_name": "Python 3",
   "language": "python",
   "name": "python3"
  },
  "language_info": {
   "codemirror_mode": {
    "name": "ipython",
    "version": 3
   },
   "file_extension": ".py",
   "mimetype": "text/x-python",
   "name": "python",
   "nbconvert_exporter": "python",
   "pygments_lexer": "ipython3",
   "version": "3.6.8"
  },
  "colab": {
   "name": "MoVi_motion_classification_steps.ipynb",
   "provenance": [],
   "collapsed_sections": [],
   "toc_visible": true,
   "include_colab_link": true
  },
  "accelerator": "GPU"
 },
 "cells": [
  {
   "cell_type": "markdown",
   "metadata": {
    "id": "view-in-github",
    "colab_type": "text"
   },
   "source": [
    "<a href=\"https://colab.research.google.com/github/NeuromatchAcademy/course-content-dl/blob/project_example_added/projects/modelingsteps/MoVi_motion_classification_steps.ipynb\" target=\"_blank\"><img alt=\"Open In Colab\" src=\"https://colab.research.google.com/assets/colab-badge.svg\"/></a>"
   ]
  },
  {
   "cell_type": "markdown",
   "metadata": {
    "id": "ranging-burst"
   },
   "source": [
    "# Example Data Science Project: MoVi motion classification demo project\n",
    "\n",
    "**By Neuromatch Academy**\n",
    "\n",
    "__Content creators:__ Marius 't Hart, Megan Peters, Vladimir Haltakov, Paul Schrater, Gunnar Blohm\n",
    "\n",
    "__Production editor:__ Spiros Chavlis"
   ],
   "id": "ranging-burst"
  },
  {
   "cell_type": "markdown",
   "metadata": {
    "id": "0-8OEIH3-LpT"
   },
   "source": [
    "**Our 2021 Sponsors, including Presenting Sponsor Facebook Reality Labs**\n",
    "\n",
    "<p align='center'><img src='https://github.com/NeuromatchAcademy/widgets/blob/master/sponsors.png?raw=True'/></p>"
   ],
   "id": "0-8OEIH3-LpT"
  },
  {
   "cell_type": "markdown",
   "metadata": {
    "id": "lfthSM088QdJ"
   },
   "source": [
    "---\n",
    "# Objectives\n",
    "\n",
    "We're interested in automatically classifying movement. There is a great dataset (MoVi) with different modalities of movement recordings (videos, visual markers, accelerometers, skeletal motion reconstructions, etc). We will use a sub-set of this data, i.e. estimated skeletal motion, to perform a pilot study investigating whether we can classify different movements from the skeletal motion. And if so, which skeletal motions (if not all) are neccessary for good decoding performance?\n",
    "\n",
    "Please check out the different resources below to better understand the MoVi dataset and learn more about the movements.\n",
    "\n",
    "**Resources**:\n",
    "* [see MoVi paper here](https://journals.plos.org/plosone/article?id=10.1371/journal.pone.0253157)\n",
    "* [GitHub page of MoVi](https://github.com/saeed1262/MoVi-Toolbox)\n",
    "* [MoVi website and description](https://www.biomotionlab.ca/movi/)\n",
    "* [full MoVi dataset (not needed for this demo)](https://dataverse.scholarsportal.info/dataset.xhtml?persistentId=doi:10.5683/SP2/JRHDRN)"
   ],
   "id": "lfthSM088QdJ"
  },
  {
   "cell_type": "markdown",
   "metadata": {
    "id": "YLvELJIDJiW8"
   },
   "source": [
    "---\n",
    "# Setup\n",
    "\n",
    "For your own project, you can put together a colab notebook by copy-pasting bits of code from the tutorials. We still recommend keeping the 4 setup cells at the top, like here; Imports, Figure Settings, Plotting functions, and Data retrieval."
   ],
   "id": "YLvELJIDJiW8"
  },
  {
   "cell_type": "code",
   "metadata": {
    "id": "bPkNdonuJpIL"
   },
   "source": [
    "# Imports\n",
    "# get some matrices and plotting:\n",
    "import numpy as np\n",
    "import matplotlib.pyplot as plt\n",
    "\n",
    "# get some pytorch:\n",
    "import torch\n",
    "import torch.nn as nn\n",
    "from torch.nn import MaxPool1d\n",
    "from torch.utils.data import Dataset\n",
    "from torch.utils.data import DataLoader\n",
    "\n",
    "# confusion matrix from sklearn\n",
    "from sklearn.metrics import confusion_matrix\n",
    "\n",
    "# to get some idea of how long stuff will take to complete:\n",
    "import time\n",
    "\n",
    "# to see how unbalanced the data is:\n",
    "from collections import Counter"
   ],
   "id": "bPkNdonuJpIL",
   "execution_count": 1,
   "outputs": []
  },
  {
   "cell_type": "markdown",
   "metadata": {},
   "source": [
    "##  Figure settings\n"
   ]
  },
  {
   "cell_type": "code",
   "metadata": {
    "id": "Fn81OPRAJxS1",
    "cellView": "form",
    "tags": [
     "hide-input"
    ]
   },
   "source": [
    "# @title Figure settings\n",
    "import ipywidgets as widgets #interactive display\n",
    "\n",
    "%config InlineBackend.figure_format = 'retina'\n",
    "plt.style.use(\"https://raw.githubusercontent.com/NeuromatchAcademy/content-creation/main/nma.mplstyle\")"
   ],
   "id": "Fn81OPRAJxS1",
   "execution_count": 2,
   "outputs": []
  },
  {
   "cell_type": "markdown",
   "metadata": {},
   "source": [
    "##  Plotting functions\n"
   ]
  },
  {
   "cell_type": "code",
   "metadata": {
    "cellView": "form",
    "id": "ieSP3d3Z8dOl",
    "tags": [
     "hide-input"
    ]
   },
   "source": [
    "# @title Plotting functions\n",
    "\n",
    "def plotConfusionMatrix(real_labels, predicted_labels, label_names):\n",
    "\n",
    "  # conver the labels to integers:\n",
    "  real_labels = [int(x) for x in real_labels]\n",
    "  predicted_labels = [int(x) for x in predicted_labels]\n",
    "  tick_names = [a.replace(\"_\", \" \") for a in label_names]\n",
    "  \n",
    "  cm = confusion_matrix(real_labels, predicted_labels, normalize='true')\n",
    "  \n",
    "  fig = plt.figure(figsize=(8,6))\n",
    "  plt.imshow(cm)\n",
    "  plt.xticks(range(len(tick_names)),tick_names, rotation=90)\n",
    "  plt.yticks(range(len(tick_names)),tick_names)\n",
    "  plt.xlabel('predicted move')\n",
    "  plt.ylabel('real move')\n",
    "  plt.show()"
   ],
   "id": "ieSP3d3Z8dOl",
   "execution_count": 3,
   "outputs": []
  },
  {
   "cell_type": "markdown",
   "metadata": {},
   "source": [
    "##  Data retrieval\n"
   ]
  },
  {
   "cell_type": "markdown",
   "metadata": {},
   "source": [
    " Run this cell to download the data for this example project.\n"
   ]
  },
  {
   "cell_type": "code",
   "metadata": {
    "id": "vN9AoEDiJ7jp",
    "cellView": "form",
    "tags": [
     "hide-input"
    ]
   },
   "source": [
    "# @title Data retrieval\n",
    "# @markdown Run this cell to download the data for this example project.\n",
    "import io\n",
    "import requests\n",
    "r = requests.get('https://osf.io/mnqb7/download')\n",
    "if r.status_code != 200:\n",
    "  print('Failed to download data')\n",
    "else:\n",
    "  train_moves=np.load(io.BytesIO(r.content), allow_pickle=True)['train_moves']\n",
    "  train_labels=np.load(io.BytesIO(r.content), allow_pickle=True)['train_labels']\n",
    "  test_moves=np.load(io.BytesIO(r.content), allow_pickle=True)['test_moves']\n",
    "  test_labels=np.load(io.BytesIO(r.content), allow_pickle=True)['test_labels']\n",
    "  label_names=np.load(io.BytesIO(r.content), allow_pickle=True)['label_names']\n",
    "  joint_names=np.load(io.BytesIO(r.content), allow_pickle=True)['joint_names']"
   ],
   "id": "vN9AoEDiJ7jp",
   "execution_count": 4,
   "outputs": []
  },
  {
   "cell_type": "markdown",
   "metadata": {
    "id": "auburn-demonstration"
   },
   "source": [
    "---\n",
    "# Step 1: Question\n",
    "There are many different questions we could ask with the MoVi dataset. We will start with a simple question: **\"Can we classify movements from skeletal motion data, and if so, which body parts are the most informative ones?\"**\n",
    "\n",
    "Our goal is to perform a *pilot* study to see if this is possible in principle. We will therefore use \"ground truth\" skeletal motion data that has been computed using an inference algorithm (see [MoVi paper](https://journals.plos.org/plosone/article?id=10.1371/journal.pone.0253157)). If this works out, then as a next step we might want to use the raw sensor data or even videos...\n",
    "\n",
    "The ultimate goal could for example be to figure out which body parts to record movements from (e.g. is just a wristband enough?) to classify movement."
   ],
   "id": "auburn-demonstration"
  },
  {
   "cell_type": "markdown",
   "metadata": {
    "id": "meaningful-oracle"
   },
   "source": [
    "---\n",
    "# Step 2: literature review\n",
    "Most importantly, our literature review needs to address the following:\n",
    "* what modeling approaches make it possible to classify time series data?\n",
    "* how is human motion captured?\n",
    "* what exactly is in the MoVi dataset?\n",
    "* what is known regarding classification of human movement based on different measurements?\n",
    "\n",
    "What we learn from the literature review is too long to write out here... But we would like to point out that human motion classification has been done; we're not proposing a very novel project here. But that's ok for an NMA project!"
   ],
   "id": "meaningful-oracle"
  },
  {
   "cell_type": "markdown",
   "metadata": {
    "id": "capable-retirement"
   },
   "source": [
    "---\n",
    "# Step 3: ingredients\n",
    "\n",
    "## Data ingredients\n",
    "\n",
    "After downloading the data, we should have 6 numpy arrays:\n",
    "\n",
    "- `train_moves`: the training set of 1032 movements\n",
    "- `train_labels`: the class labels for each of the 1032 training movements\n",
    "- `test_moves`: the test set of 172 movements\n",
    "- `test_labels`: the class labels for each of the 172 test movements\n",
    "- `label_names`: text labels for the values in the two arrays of class labels\n",
    "- `joint_names`: the names of the 24 joints used in each movement\n",
    "\n",
    "We'll take a closer look at the data below. *Note*: data is split into training and test sets. If you don't know what that means, NMA-DL will teach you!\n",
    "\n",
    "**Inputs**:\n",
    "\n",
    "For simplicity, we take the first 24 joints of the whole MoVi dataset including all major limbs. The data was in an exponential map format, which has 3 rotations/angles for each joint (pitch, yaw, roll). The advantage of this type of data is that it is (mostly) agnostic about body size or shape. And since we care about movements only, we choose this representation of the data (there are other representations in the full data set).\n",
    "\n",
    "Since the joints are simply points, the 3rd angle (i.e. roll) contained no information, and that is already dropped from the data that we pre-formatted for this demo project. That is, the movements of each joint are described by 2 angles, that change over time. Furthermore, we normalized all the angles/rotations to fall between 0 and 1 so they are good input for PyTorch.\n",
    "\n",
    "Finally, the movements originally took various amounts of time, but we need the same input for each movement, so we sub-sampled and (linearly) interpolated the data to have 75 timepoints.\n",
    "\n",
    "Our training data is supposed to have 1032 movements, 2 x 24 joints = 48 channels and 75 timepoints. Let's check and make sure:"
   ],
   "id": "capable-retirement"
  },
  {
   "cell_type": "code",
   "metadata": {
    "id": "mV3UL0-fNFsq",
    "colab": {
     "base_uri": "https://localhost:8080/"
    },
    "outputId": "a9fb17f6-0679-4ee8-a67a-02565104743b"
   },
   "source": [
    "print(train_moves.shape)"
   ],
   "id": "mV3UL0-fNFsq",
   "execution_count": 5,
   "outputs": [
    {
     "output_type": "stream",
     "text": [
      "(1032, 48, 75)\n"
     ],
     "name": "stdout"
    }
   ]
  },
  {
   "cell_type": "markdown",
   "metadata": {
    "id": "aGNWHN4gT8qW"
   },
   "source": [
    "Cool!\n",
    "\n",
    "**Joints**:\n",
    "\n",
    "For each movement we have 2 angles from 24 joints. Which joints are these?"
   ],
   "id": "aGNWHN4gT8qW"
  },
  {
   "cell_type": "code",
   "metadata": {
    "id": "XseMCJ_JUGpv",
    "colab": {
     "base_uri": "https://localhost:8080/"
    },
    "outputId": "f4f7d5bb-fc25-4d01-feac-05b52d88fb47"
   },
   "source": [
    "for joint_no in range(24):\n",
    "  print(f\"{joint_no}: {joint_names[joint_no]}\")"
   ],
   "id": "XseMCJ_JUGpv",
   "execution_count": 6,
   "outputs": [
    {
     "output_type": "stream",
     "text": [
      "0: Pelvis\n",
      "1: LeftHip\n",
      "2: RightHip\n",
      "3: Spine1\n",
      "4: LeftKnee\n",
      "5: RightKnee\n",
      "6: Spine2\n",
      "7: LeftAnkle\n",
      "8: RightAnkle\n",
      "9: Spine3\n",
      "10: LeftFoot\n",
      "11: RightFoot\n",
      "12: Neck\n",
      "13: LeftCollar\n",
      "14: RightCollar\n",
      "15: Head\n",
      "16: LeftShoulder\n",
      "17: RightShoulder\n",
      "18: LeftElbow\n",
      "19: RightElbow\n",
      "20: LeftWrist\n",
      "21: RightWrist\n",
      "22: LeftHand\n",
      "23: RightHand\n"
     ],
     "name": "stdout"
    }
   ]
  },
  {
   "cell_type": "markdown",
   "metadata": {
    "id": "73fNoLe3Nyui"
   },
   "source": [
    "**Labels**:\n",
    "\n",
    "Let's have a look at the `train_labels` array too:"
   ],
   "id": "73fNoLe3Nyui"
  },
  {
   "cell_type": "code",
   "metadata": {
    "id": "wbfDO9YcN8IK",
    "colab": {
     "base_uri": "https://localhost:8080/"
    },
    "outputId": "6a9b0806-3c3b-40c6-cad1-da9bdb2f4b80"
   },
   "source": [
    "print(train_labels)\n",
    "print(train_labels.shape)"
   ],
   "id": "wbfDO9YcN8IK",
   "execution_count": 7,
   "outputs": [
    {
     "output_type": "stream",
     "text": [
      "[ 0  1  4 ...  6  2 11]\n",
      "(1032,)\n"
     ],
     "name": "stdout"
    }
   ]
  },
  {
   "cell_type": "markdown",
   "metadata": {
    "id": "PuIGf6WdNHAn"
   },
   "source": [
    "The labels are numbers, and there are 1032 of them, so that matches the number of movements in the data set. There are text versions too in the array called `label_names`. Let's have a look. There are supposed to be 14 movement classes.\n",
    "\n"
   ],
   "id": "PuIGf6WdNHAn"
  },
  {
   "cell_type": "code",
   "metadata": {
    "id": "1z9OibQROznT",
    "colab": {
     "base_uri": "https://localhost:8080/"
    },
    "outputId": "850c2d7c-58a8-4535-f0bf-5fefbe9d7989"
   },
   "source": [
    "# let's check the values of the train_labels array:\n",
    "label_numbers = np.unique(train_labels)\n",
    "print(label_numbers)\n",
    "\n",
    "# and use them as indices into the label_names array:\n",
    "for label_no in label_numbers:\n",
    "  print(f\"{label_no}: {label_names[label_no]}\")"
   ],
   "id": "1z9OibQROznT",
   "execution_count": 8,
   "outputs": [
    {
     "output_type": "stream",
     "text": [
      "[ 0  1  2  3  4  5  6  7  8  9 10 11 12 13]\n",
      "0: crawling\n",
      "1: throw/catch\n",
      "2: walking\n",
      "3: running_in_spot\n",
      "4: cross_legged_sitting\n",
      "5: hand_clapping\n",
      "6: scratching_head\n",
      "7: kicking\n",
      "8: phone_talking\n",
      "9: sitting_down\n",
      "10: checking_watch\n",
      "11: pointing\n",
      "12: hand_waving\n",
      "13: taking_photo\n"
     ],
     "name": "stdout"
    }
   ]
  },
  {
   "cell_type": "markdown",
   "metadata": {
    "id": "z3fCrClWP85Z"
   },
   "source": [
    "The test data set has similar data, but fewer movements. That's ok. What's important is that both the training and test datasets have an even spread of movement types, i.e. we want them to be balanced. Let's see how balanced the data is:"
   ],
   "id": "z3fCrClWP85Z"
  },
  {
   "cell_type": "code",
   "metadata": {
    "id": "barhwy9EQ5uI",
    "colab": {
     "base_uri": "https://localhost:8080/"
    },
    "outputId": "ca0b0f08-ff3d-4b3b-c3ff-7ca9a234b050"
   },
   "source": [
    "Counter(train_labels)"
   ],
   "id": "barhwy9EQ5uI",
   "execution_count": 9,
   "outputs": [
    {
     "output_type": "execute_result",
     "data": {
      "text/plain": [
       "Counter({0: 74,\n",
       "         1: 74,\n",
       "         2: 73,\n",
       "         3: 73,\n",
       "         4: 73,\n",
       "         5: 73,\n",
       "         6: 74,\n",
       "         7: 74,\n",
       "         8: 74,\n",
       "         9: 74,\n",
       "         10: 74,\n",
       "         11: 74,\n",
       "         12: 74,\n",
       "         13: 74})"
      ]
     },
     "metadata": {
      "tags": []
     },
     "execution_count": 9
    }
   ]
  },
  {
   "cell_type": "code",
   "metadata": {
    "id": "CCJystGFRO3H",
    "colab": {
     "base_uri": "https://localhost:8080/"
    },
    "outputId": "0afc4f4d-85a3-4859-c5bc-543d5f8008d8"
   },
   "source": [
    "Counter(test_labels)"
   ],
   "id": "CCJystGFRO3H",
   "execution_count": 10,
   "outputs": [
    {
     "output_type": "execute_result",
     "data": {
      "text/plain": [
       "Counter({0: 12,\n",
       "         1: 12,\n",
       "         2: 13,\n",
       "         3: 13,\n",
       "         4: 13,\n",
       "         5: 13,\n",
       "         6: 12,\n",
       "         7: 12,\n",
       "         8: 12,\n",
       "         9: 12,\n",
       "         10: 12,\n",
       "         11: 12,\n",
       "         12: 12,\n",
       "         13: 12})"
      ]
     },
     "metadata": {
      "tags": []
     },
     "execution_count": 10
    }
   ]
  },
  {
   "cell_type": "markdown",
   "metadata": {
    "id": "uGHra3KuRlBh"
   },
   "source": [
    "So that looks more or less OK. Movements 2, 3, 4 and 5 occur once more in the training data than the other movements, and one time fewer in the test data. Not perfect, but probably doesn't matter that much."
   ],
   "id": "uGHra3KuRlBh"
  },
  {
   "cell_type": "markdown",
   "metadata": {
    "id": "rHpiIl1eOupO"
   },
   "source": [
    "## Model ingredients\n",
    "\n",
    "**\"Mechanisms\"**:\n",
    "\n",
    "* Feature engineering? --> Do we need anything else aside from angular time courses? For now we choose to only use the angular time courses (exponential maps), as our ultimate goal is to see how many joints we need for accurate movement classification so that we can decrease the number of measurements or devices for later work.\n",
    "\n",
    "* Feature selection? --> Which joint movements are most informative? These are related to our research questions and hypotheses, so this project will explicitly investigate which joints are most informative.\n",
    "\n",
    "* Feature grouping? --> Instead of trying all possible combinations of joints (very many) we could focus on limbs, by grouping joints. We could also try the model on individual joints.\n",
    "\n",
    "* Classifier? --> For our classifier we would like to keep it as simple as possible, but we will decide later.\n",
    "\n",
    "* Input? --> The training data (movements and labels) will be used to train the classifier.\n",
    "\n",
    "* Output? --> The test data will be used as input for the trained model and we will see if the predicted labels are the same as the actual labels."
   ],
   "id": "rHpiIl1eOupO"
  },
  {
   "cell_type": "markdown",
   "metadata": {
    "id": "single-server"
   },
   "source": [
    "---\n",
    "# Step 4: hypotheses\n",
    "Since humans can easily distinguish different movement types from video data and also more abstract \"stick figures\", a DL model should also be able to do so. Therefore, our hypotheses are more detailed with respect to parameters influencing model performance (and not just whether it will work or not). \n",
    "\n",
    "Remember, we're interested in seeing how many joints are needed for classification. So we could hypothezise (Hypothesis 1) that arm and leg motions are sufficient for classification (meaning: head and torso data is not needed).\n",
    "\n",
    "* Hypothesis 1: The performance of a model with four limbs plus torso and head is not higher than the performance of a model with only limbs.\n",
    "\n",
    "We could also hypothesize that data from only one side of the body is sufficient (Hypothesis 2), e.g. the right side, since our participants are right handed.\n",
    "\n",
    "* Hypothesis 2: A model using only joints in the right arm will outperform a model using only the joints in the left arm.\n",
    "\n",
    "Writing those in mathematical terms:\n",
    "* Hypothesis 1: $\\mathbb{E}(perf_{limbs})>\\mathbb{E}(perf_{torso})$\n",
    "* Hypothesis 2: $\\mathbb{E}(perf_{right arm})>\\mathbb{E}(perf_{left arm})$"
   ],
   "id": "single-server"
  },
  {
   "cell_type": "markdown",
   "metadata": {
    "id": "fantastic-egypt"
   },
   "source": [
    "---\n",
    "# Step 5: toolkit selection\n",
    "We need a toolkit that can deal with time-varying data as input (e.g. 1d convnet, LSTM, transformer...). We want to keep it as simple as possible to start with. So let's run with a 1d convnet. It allows us to answer our question, it will be able to speak to our hypotheses, and hopefully we can achieve our goal to see if automatic movement classification based on (sparse) body movement data is possible."
   ],
   "id": "fantastic-egypt"
  },
  {
   "cell_type": "markdown",
   "metadata": {
    "id": "parental-compensation"
   },
   "source": [
    "---\n",
    "# Step 6: model drafting\n",
    "Here is our sketch of the model we wanted to build...\n",
    "\n",
    "<p align='center'><img src='https://github.com/NeuromatchAcademy/course-content-dl/blob/main/projects/static/DL_model_schematic.jpg?raw=True'/></p>"
   ],
   "id": "parental-compensation"
  },
  {
   "cell_type": "markdown",
   "metadata": {
    "id": "animated-string"
   },
   "source": [
    "---\n",
    "# Step 7: model implementation\n",
    "\n",
    "It's finally time to write some deep learning code... so here we go!"
   ],
   "id": "animated-string"
  },
  {
   "cell_type": "markdown",
   "metadata": {
    "id": "pharmaceutical-heater"
   },
   "source": [
    "The cell below creates an object class, and is based on https://pytorch.org/tutorials/beginner/basics/data_tutorial.html on the PyTorch website, adapted to work with our data.\n",
    "\n",
    "It is based on the `Dataset` object class in PyTorch and this is needed to set up a `Dataloader` object that will be used in the model.\n",
    "\n",
    "We can tell our dataset object to use the training or test data. We can also tell it which joints to return, so that we can build models that classify movements based on different sets of joints:"
   ],
   "id": "pharmaceutical-heater"
  },
  {
   "cell_type": "code",
   "metadata": {
    "id": "gDhgbCPKV31p"
   },
   "source": [
    "class MoViJointDataset(Dataset):\n",
    "  \"\"\"MoVi dataset.\"\"\"\n",
    "  \n",
    "  def __init__(self, train=True, joints=list(range(24))):\n",
    "    \"\"\"\n",
    "    Args:\n",
    "      train (boolean): Use the training data, or otherwise the test data.\n",
    "      joints (list): Indices of joints to return.\n",
    "    \"\"\"\n",
    "    \n",
    "    # select the training or test data:\n",
    "    if train:\n",
    "      self.moves = train_moves\n",
    "      self.labels = train_labels\n",
    "    else:\n",
    "      self.moves = test_moves\n",
    "      self.labels = test_labels\n",
    "    \n",
    "    # convert joint indices to channel indices:\n",
    "    joints = np.array(joints)\n",
    "    self.channels = np.sort(list(joints*2)+ list((joints*2)+1)) # 2 channels per joint\n",
    "      \n",
    "  def __len__(self):\n",
    "    return self.labels.size\n",
    "\n",
    "  def __getitem__(self, idx):\n",
    "    if torch.is_tensor(idx):\n",
    "      idx = idx.tolist()\n",
    "    \n",
    "    sample = (np.float32(np.squeeze(self.moves[idx,self.channels,:])), self.labels[idx])\n",
    "\n",
    "    return sample"
   ],
   "id": "gDhgbCPKV31p",
   "execution_count": 11,
   "outputs": []
  },
  {
   "cell_type": "markdown",
   "metadata": {
    "id": "u5yQ7DlWWWYw"
   },
   "source": [
    "We want to make sure that this object works the way we intended, so we try it out:"
   ],
   "id": "u5yQ7DlWWWYw"
  },
  {
   "cell_type": "code",
   "metadata": {
    "id": "RO2gen1kW7Nk",
    "colab": {
     "base_uri": "https://localhost:8080/"
    },
    "outputId": "8da4756b-beea-4568-8412-d97f5a7fd431"
   },
   "source": [
    "# Create training and test datasets\n",
    "movi_train = MoViJointDataset(train=True)\n",
    "movi_test = MoViJointDataset(train=False, joints=[0,1,2])\n",
    "\n",
    "print('TRAINING:')\n",
    "for idx in range(len(movi_train)):\n",
    "  pass\n",
    "print(idx)\n",
    "print(movi_train[idx][0].shape, label_names[movi_train[idx][1]])\n",
    "print('\\nTESTING:')\n",
    "for idx in range(len(movi_test)):\n",
    "  pass\n",
    "print(idx)\n",
    "print(movi_test[idx][0].shape, label_names[movi_test[idx][1]])"
   ],
   "id": "RO2gen1kW7Nk",
   "execution_count": 12,
   "outputs": [
    {
     "output_type": "stream",
     "text": [
      "TRAINING:\n",
      "1031\n",
      "(48, 75) pointing\n",
      "\n",
      "TESTING:\n",
      "171\n",
      "(6, 75) cross_legged_sitting\n"
     ],
     "name": "stdout"
    }
   ]
  },
  {
   "cell_type": "markdown",
   "metadata": {
    "id": "DAjuDR1wY_mI"
   },
   "source": [
    "So we see the movement number (minus 1), the shape of the dataset (e.g. 48 channels and 75 time points for the training set), and the name of the movement."
   ],
   "id": "DAjuDR1wY_mI"
  },
  {
   "cell_type": "markdown",
   "metadata": {
    "id": "engaged-equality"
   },
   "source": [
    "## Build model\n",
    "pytorch expects as input not a single sample, but rather a minibatch of B samples stacked together along the \"minibatch dimension\".\n",
    "So a \"1D\" CNN in pytorch expects a 3D tensor as input: BxCxT\n",
    "\n",
    "- **B:** batch size (however many examples are used in batch training)\n",
    "- **C:** channels (up to 24 joints x 2 coordinates)\n",
    "- **T:** timepoints (75 in our case)\n",
    "\n",
    "We need `Dataloader` objects that use our `MoViJointDataset` objects to do this. For this we can simply use PyTorch `Dataloader` objects, but it also needs one of our hyperparameters (batch size) to be set:"
   ],
   "id": "engaged-equality"
  },
  {
   "cell_type": "code",
   "metadata": {
    "id": "-FhReTdFXzob"
   },
   "source": [
    "# Hyperparameters\n",
    "num_epochs = 500\n",
    "num_classes = 14 # is this ever used?\n",
    "batch_size = 516\n",
    "learning_rate = 0.001\n",
    "\n",
    "# Create training and test datasets\n",
    "movi_train = MoViJointDataset(train = True)\n",
    "movi_test  = MoViJointDataset(train = False)\n",
    "\n",
    "# Data loader\n",
    "train_loader = DataLoader(dataset=movi_train, batch_size=batch_size, shuffle=True)\n",
    "test_loader  = DataLoader(dataset=movi_test, batch_size=batch_size, shuffle=False)"
   ],
   "id": "-FhReTdFXzob",
   "execution_count": 13,
   "outputs": []
  },
  {
   "cell_type": "markdown",
   "metadata": {
    "id": "SyQERH4vXz5w"
   },
   "source": [
    "And we decided to use a simple 1D convnet. We want to specify the number of joints used and then use 2 input channels for every joint (2 dimensions of rotation). At the end of the convnet there are 14 probabilities, 1 for each class of movement, but we convert it to give the index of the highest probability."
   ],
   "id": "SyQERH4vXz5w"
  },
  {
   "cell_type": "code",
   "metadata": {
    "id": "MxwaPvBtX0QZ"
   },
   "source": [
    "class Mov1DCNN(nn.Module):\n",
    "  def __init__(self, njoints=24):\n",
    "      \n",
    "    super(Mov1DCNN, self).__init__()\n",
    "    \n",
    "    self.layer1 = nn.Sequential(\n",
    "      nn.Conv1d(in_channels=njoints*2, out_channels=56, kernel_size=5, stride=2),\n",
    "      nn.ReLU(),\n",
    "      nn.MaxPool1d(kernel_size=2, stride=2))\n",
    "    \n",
    "    self.layer2 = nn.Sequential(\n",
    "      nn.Conv1d(in_channels=56, out_channels=14, kernel_size=1),\n",
    "      nn.ReLU(),\n",
    "      nn.MaxPool1d(kernel_size=2, stride=2))\n",
    "    \n",
    "    self.dropout1 = nn.Dropout(p=0.2)\n",
    "    self.fc1 = nn.Linear(126, 2200)  # fix dimensions\n",
    "    self.nl = nn.ReLU()\n",
    "    self.dropout2 = nn.Dropout(p=0.2)\n",
    "    self.fc2 = nn.Linear(2200, 14)\n",
    "  \n",
    "  def forward(self, x):\n",
    "    out = self.layer1(x)\n",
    "    out = self.layer2(out)\n",
    "    \n",
    "    out = out.reshape(out.size(0), -1)\n",
    "    out = self.dropout1(out)\n",
    "    out = self.fc1(out)\n",
    "    out = self.nl(out)\n",
    "    out = self.dropout2(out)\n",
    "    out = self.fc2(out)\n",
    "    # pick the most likely class:\n",
    "    out = nn.functional.log_softmax(out, dim=1)\n",
    "\n",
    "    return out"
   ],
   "id": "MxwaPvBtX0QZ",
   "execution_count": 14,
   "outputs": []
  },
  {
   "cell_type": "markdown",
   "metadata": {
    "id": "EVbl_vZhZiNE"
   },
   "source": [
    "We can now instantiate the model object, with _all_ joints, and set a criterion and optimizer: "
   ],
   "id": "EVbl_vZhZiNE"
  },
  {
   "cell_type": "code",
   "metadata": {
    "id": "A9bjZkdFZm2c"
   },
   "source": [
    "### ADDING GPU ###\n",
    "device = \"cuda\" if torch.cuda.is_available() else \"cpu\"\n",
    "\n",
    "# create the model object:\n",
    "model = Mov1DCNN(njoints=24).to(device)\n",
    "\n",
    "# loss and optimizer:\n",
    "criterion = nn.CrossEntropyLoss()\n",
    "optimizer = torch.optim.Adam(model.parameters(), lr=learning_rate)"
   ],
   "id": "A9bjZkdFZm2c",
   "execution_count": 15,
   "outputs": []
  },
  {
   "cell_type": "markdown",
   "metadata": {
    "id": "OqNJJOcyaNUr"
   },
   "source": [
    "And now we are ready to train this model.\n",
    "\n",
    "**This takes up to ~20 seconds!**"
   ],
   "id": "OqNJJOcyaNUr"
  },
  {
   "cell_type": "code",
   "metadata": {
    "id": "icuFDR1naP_P",
    "colab": {
     "base_uri": "https://localhost:8080/"
    },
    "outputId": "b63e610e-e1b6-4baa-ff1d-83f1218b48df"
   },
   "source": [
    "# Train the model\n",
    "total_step = len(train_loader)\n",
    "loss_list = []\n",
    "acc_list = []\n",
    "for epoch in range(num_epochs):\n",
    "  for i, (motions, labels) in enumerate(train_loader):\n",
    "    motions, labels = motions.to(device), labels.to(device)\n",
    "\n",
    "    # Run the forward pass\n",
    "    outputs = model(motions)\n",
    "    loss = criterion(outputs, labels)\n",
    "    loss_list.append(loss.item())\n",
    "\n",
    "    # Backprop and perform Adam optimisation\n",
    "    optimizer.zero_grad()\n",
    "    loss.backward()\n",
    "    optimizer.step()\n",
    "\n",
    "    # Track the accuracy\n",
    "    total = labels.size(0)\n",
    "    _, predicted = torch.max(outputs.data, 1)\n",
    "    correct = (predicted == labels).sum().item()\n",
    "    acc_list.append(correct / total)\n",
    "\n",
    "    if (i + 1) % 2 == 0:\n",
    "        print(f\"Epoch [{epoch+1}/{num_epochs}], Step [{i+1}/{total_step}], \"\n",
    "              f\"Loss: {loss.item():.4f}, \"\n",
    "              f\"Accuracy: {((correct / total) * 100):.2f}%\")"
   ],
   "id": "icuFDR1naP_P",
   "execution_count": 16,
   "outputs": [
    {
     "output_type": "stream",
     "text": [
      "/usr/local/lib/python3.7/dist-packages/torch/nn/functional.py:652: UserWarning: Named tensors and all their associated APIs are an experimental feature and subject to change. Please do not use them for anything important until they are released as stable. (Triggered internally at  /pytorch/c10/core/TensorImpl.h:1156.)\n",
      "  return torch.max_pool1d(input, kernel_size, stride, padding, dilation, ceil_mode)\n"
     ],
     "name": "stderr"
    },
    {
     "output_type": "stream",
     "text": [
      "Epoch [1/500], Step [2/2], Loss: 2.6440, Accuracy: 7.75%\n",
      "Epoch [2/500], Step [2/2], Loss: 2.6410, Accuracy: 6.40%\n",
      "Epoch [3/500], Step [2/2], Loss: 2.6397, Accuracy: 6.78%\n",
      "Epoch [4/500], Step [2/2], Loss: 2.6397, Accuracy: 6.01%\n",
      "Epoch [5/500], Step [2/2], Loss: 2.6371, Accuracy: 6.98%\n",
      "Epoch [6/500], Step [2/2], Loss: 2.6371, Accuracy: 6.20%\n",
      "Epoch [7/500], Step [2/2], Loss: 2.6330, Accuracy: 9.50%\n",
      "Epoch [8/500], Step [2/2], Loss: 2.6276, Accuracy: 16.09%\n",
      "Epoch [9/500], Step [2/2], Loss: 2.6221, Accuracy: 7.56%\n",
      "Epoch [10/500], Step [2/2], Loss: 2.6048, Accuracy: 13.76%\n",
      "Epoch [11/500], Step [2/2], Loss: 2.5949, Accuracy: 16.67%\n",
      "Epoch [12/500], Step [2/2], Loss: 2.5624, Accuracy: 21.71%\n",
      "Epoch [13/500], Step [2/2], Loss: 2.5356, Accuracy: 21.32%\n",
      "Epoch [14/500], Step [2/2], Loss: 2.5079, Accuracy: 20.54%\n",
      "Epoch [15/500], Step [2/2], Loss: 2.4446, Accuracy: 24.22%\n",
      "Epoch [16/500], Step [2/2], Loss: 2.4058, Accuracy: 24.42%\n",
      "Epoch [17/500], Step [2/2], Loss: 2.3785, Accuracy: 18.80%\n",
      "Epoch [18/500], Step [2/2], Loss: 2.3369, Accuracy: 22.48%\n",
      "Epoch [19/500], Step [2/2], Loss: 2.2447, Accuracy: 24.42%\n",
      "Epoch [20/500], Step [2/2], Loss: 2.2118, Accuracy: 31.98%\n",
      "Epoch [21/500], Step [2/2], Loss: 2.1384, Accuracy: 35.27%\n",
      "Epoch [22/500], Step [2/2], Loss: 2.0925, Accuracy: 33.72%\n",
      "Epoch [23/500], Step [2/2], Loss: 2.0661, Accuracy: 34.69%\n",
      "Epoch [24/500], Step [2/2], Loss: 2.0210, Accuracy: 35.47%\n",
      "Epoch [25/500], Step [2/2], Loss: 2.0085, Accuracy: 32.95%\n",
      "Epoch [26/500], Step [2/2], Loss: 1.8792, Accuracy: 42.44%\n",
      "Epoch [27/500], Step [2/2], Loss: 1.9159, Accuracy: 38.18%\n",
      "Epoch [28/500], Step [2/2], Loss: 1.8956, Accuracy: 40.70%\n",
      "Epoch [29/500], Step [2/2], Loss: 1.8239, Accuracy: 42.64%\n",
      "Epoch [30/500], Step [2/2], Loss: 1.8537, Accuracy: 35.08%\n",
      "Epoch [31/500], Step [2/2], Loss: 1.7918, Accuracy: 36.63%\n",
      "Epoch [32/500], Step [2/2], Loss: 1.7083, Accuracy: 42.25%\n",
      "Epoch [33/500], Step [2/2], Loss: 1.7200, Accuracy: 41.09%\n",
      "Epoch [34/500], Step [2/2], Loss: 1.7117, Accuracy: 39.92%\n",
      "Epoch [35/500], Step [2/2], Loss: 1.6590, Accuracy: 48.06%\n",
      "Epoch [36/500], Step [2/2], Loss: 1.6717, Accuracy: 43.60%\n",
      "Epoch [37/500], Step [2/2], Loss: 1.5571, Accuracy: 50.00%\n",
      "Epoch [38/500], Step [2/2], Loss: 1.5677, Accuracy: 46.12%\n",
      "Epoch [39/500], Step [2/2], Loss: 1.5336, Accuracy: 52.91%\n",
      "Epoch [40/500], Step [2/2], Loss: 1.4955, Accuracy: 52.33%\n",
      "Epoch [41/500], Step [2/2], Loss: 1.5027, Accuracy: 48.64%\n",
      "Epoch [42/500], Step [2/2], Loss: 1.5413, Accuracy: 49.03%\n",
      "Epoch [43/500], Step [2/2], Loss: 1.4375, Accuracy: 54.46%\n",
      "Epoch [44/500], Step [2/2], Loss: 1.3595, Accuracy: 59.50%\n",
      "Epoch [45/500], Step [2/2], Loss: 1.3783, Accuracy: 55.23%\n",
      "Epoch [46/500], Step [2/2], Loss: 1.3900, Accuracy: 57.36%\n",
      "Epoch [47/500], Step [2/2], Loss: 1.3484, Accuracy: 57.56%\n",
      "Epoch [48/500], Step [2/2], Loss: 1.3284, Accuracy: 56.98%\n",
      "Epoch [49/500], Step [2/2], Loss: 1.3194, Accuracy: 55.62%\n",
      "Epoch [50/500], Step [2/2], Loss: 1.3078, Accuracy: 57.75%\n",
      "Epoch [51/500], Step [2/2], Loss: 1.3792, Accuracy: 53.29%\n",
      "Epoch [52/500], Step [2/2], Loss: 1.2130, Accuracy: 62.02%\n",
      "Epoch [53/500], Step [2/2], Loss: 1.2735, Accuracy: 59.11%\n",
      "Epoch [54/500], Step [2/2], Loss: 1.3228, Accuracy: 51.74%\n",
      "Epoch [55/500], Step [2/2], Loss: 1.2547, Accuracy: 55.62%\n",
      "Epoch [56/500], Step [2/2], Loss: 1.3242, Accuracy: 52.71%\n",
      "Epoch [57/500], Step [2/2], Loss: 1.2083, Accuracy: 56.98%\n",
      "Epoch [58/500], Step [2/2], Loss: 1.1850, Accuracy: 59.69%\n",
      "Epoch [59/500], Step [2/2], Loss: 1.2318, Accuracy: 57.95%\n",
      "Epoch [60/500], Step [2/2], Loss: 1.2378, Accuracy: 55.43%\n",
      "Epoch [61/500], Step [2/2], Loss: 1.1300, Accuracy: 60.08%\n",
      "Epoch [62/500], Step [2/2], Loss: 1.2501, Accuracy: 55.04%\n",
      "Epoch [63/500], Step [2/2], Loss: 1.2534, Accuracy: 55.43%\n",
      "Epoch [64/500], Step [2/2], Loss: 1.1742, Accuracy: 58.91%\n",
      "Epoch [65/500], Step [2/2], Loss: 1.1020, Accuracy: 63.57%\n",
      "Epoch [66/500], Step [2/2], Loss: 1.1371, Accuracy: 59.11%\n",
      "Epoch [67/500], Step [2/2], Loss: 1.1928, Accuracy: 53.68%\n",
      "Epoch [68/500], Step [2/2], Loss: 1.1796, Accuracy: 57.17%\n",
      "Epoch [69/500], Step [2/2], Loss: 1.1968, Accuracy: 56.40%\n",
      "Epoch [70/500], Step [2/2], Loss: 1.1303, Accuracy: 61.82%\n",
      "Epoch [71/500], Step [2/2], Loss: 1.0681, Accuracy: 61.82%\n",
      "Epoch [72/500], Step [2/2], Loss: 1.0820, Accuracy: 59.50%\n",
      "Epoch [73/500], Step [2/2], Loss: 1.0938, Accuracy: 62.21%\n",
      "Epoch [74/500], Step [2/2], Loss: 1.1274, Accuracy: 60.47%\n",
      "Epoch [75/500], Step [2/2], Loss: 1.1809, Accuracy: 60.47%\n",
      "Epoch [76/500], Step [2/2], Loss: 1.0933, Accuracy: 59.11%\n",
      "Epoch [77/500], Step [2/2], Loss: 1.1179, Accuracy: 59.69%\n",
      "Epoch [78/500], Step [2/2], Loss: 1.1381, Accuracy: 56.78%\n",
      "Epoch [79/500], Step [2/2], Loss: 1.1219, Accuracy: 58.33%\n",
      "Epoch [80/500], Step [2/2], Loss: 1.1055, Accuracy: 59.88%\n",
      "Epoch [81/500], Step [2/2], Loss: 1.1966, Accuracy: 55.43%\n",
      "Epoch [82/500], Step [2/2], Loss: 1.2426, Accuracy: 53.68%\n",
      "Epoch [83/500], Step [2/2], Loss: 1.1396, Accuracy: 56.01%\n",
      "Epoch [84/500], Step [2/2], Loss: 1.0210, Accuracy: 64.53%\n",
      "Epoch [85/500], Step [2/2], Loss: 0.9876, Accuracy: 66.67%\n",
      "Epoch [86/500], Step [2/2], Loss: 0.9476, Accuracy: 64.53%\n",
      "Epoch [87/500], Step [2/2], Loss: 0.9380, Accuracy: 65.31%\n",
      "Epoch [88/500], Step [2/2], Loss: 0.9702, Accuracy: 66.28%\n",
      "Epoch [89/500], Step [2/2], Loss: 0.9217, Accuracy: 67.83%\n",
      "Epoch [90/500], Step [2/2], Loss: 0.9630, Accuracy: 66.28%\n",
      "Epoch [91/500], Step [2/2], Loss: 0.9709, Accuracy: 64.92%\n",
      "Epoch [92/500], Step [2/2], Loss: 0.8634, Accuracy: 67.64%\n",
      "Epoch [93/500], Step [2/2], Loss: 0.9447, Accuracy: 66.09%\n",
      "Epoch [94/500], Step [2/2], Loss: 0.9720, Accuracy: 64.15%\n",
      "Epoch [95/500], Step [2/2], Loss: 0.9522, Accuracy: 62.79%\n",
      "Epoch [96/500], Step [2/2], Loss: 1.0216, Accuracy: 61.63%\n",
      "Epoch [97/500], Step [2/2], Loss: 0.9627, Accuracy: 64.73%\n",
      "Epoch [98/500], Step [2/2], Loss: 0.9822, Accuracy: 66.47%\n",
      "Epoch [99/500], Step [2/2], Loss: 1.0038, Accuracy: 65.12%\n",
      "Epoch [100/500], Step [2/2], Loss: 0.9934, Accuracy: 62.60%\n",
      "Epoch [101/500], Step [2/2], Loss: 1.0095, Accuracy: 62.40%\n",
      "Epoch [102/500], Step [2/2], Loss: 0.9731, Accuracy: 66.28%\n",
      "Epoch [103/500], Step [2/2], Loss: 0.9505, Accuracy: 65.89%\n",
      "Epoch [104/500], Step [2/2], Loss: 0.8696, Accuracy: 68.02%\n",
      "Epoch [105/500], Step [2/2], Loss: 0.9214, Accuracy: 66.47%\n",
      "Epoch [106/500], Step [2/2], Loss: 0.9168, Accuracy: 66.86%\n",
      "Epoch [107/500], Step [2/2], Loss: 0.9089, Accuracy: 67.64%\n",
      "Epoch [108/500], Step [2/2], Loss: 0.9139, Accuracy: 66.67%\n",
      "Epoch [109/500], Step [2/2], Loss: 0.8997, Accuracy: 66.47%\n",
      "Epoch [110/500], Step [2/2], Loss: 0.8978, Accuracy: 65.50%\n",
      "Epoch [111/500], Step [2/2], Loss: 0.8446, Accuracy: 69.19%\n",
      "Epoch [112/500], Step [2/2], Loss: 0.8539, Accuracy: 67.44%\n",
      "Epoch [113/500], Step [2/2], Loss: 0.8648, Accuracy: 68.80%\n",
      "Epoch [114/500], Step [2/2], Loss: 0.8338, Accuracy: 68.60%\n",
      "Epoch [115/500], Step [2/2], Loss: 0.8220, Accuracy: 69.57%\n",
      "Epoch [116/500], Step [2/2], Loss: 0.8449, Accuracy: 68.80%\n",
      "Epoch [117/500], Step [2/2], Loss: 0.8956, Accuracy: 69.38%\n",
      "Epoch [118/500], Step [2/2], Loss: 0.8794, Accuracy: 66.86%\n",
      "Epoch [119/500], Step [2/2], Loss: 0.8945, Accuracy: 63.57%\n",
      "Epoch [120/500], Step [2/2], Loss: 0.8729, Accuracy: 67.44%\n",
      "Epoch [121/500], Step [2/2], Loss: 0.7799, Accuracy: 72.67%\n",
      "Epoch [122/500], Step [2/2], Loss: 0.8198, Accuracy: 68.41%\n",
      "Epoch [123/500], Step [2/2], Loss: 0.8635, Accuracy: 68.99%\n",
      "Epoch [124/500], Step [2/2], Loss: 0.8722, Accuracy: 71.12%\n",
      "Epoch [125/500], Step [2/2], Loss: 0.8735, Accuracy: 65.50%\n",
      "Epoch [126/500], Step [2/2], Loss: 0.8628, Accuracy: 69.38%\n",
      "Epoch [127/500], Step [2/2], Loss: 0.8446, Accuracy: 68.22%\n",
      "Epoch [128/500], Step [2/2], Loss: 0.8731, Accuracy: 67.25%\n",
      "Epoch [129/500], Step [2/2], Loss: 0.9004, Accuracy: 66.86%\n",
      "Epoch [130/500], Step [2/2], Loss: 0.8195, Accuracy: 70.93%\n",
      "Epoch [131/500], Step [2/2], Loss: 0.8314, Accuracy: 67.83%\n",
      "Epoch [132/500], Step [2/2], Loss: 0.8155, Accuracy: 68.60%\n",
      "Epoch [133/500], Step [2/2], Loss: 0.7459, Accuracy: 71.90%\n",
      "Epoch [134/500], Step [2/2], Loss: 0.7829, Accuracy: 69.57%\n",
      "Epoch [135/500], Step [2/2], Loss: 0.7972, Accuracy: 69.57%\n",
      "Epoch [136/500], Step [2/2], Loss: 0.8051, Accuracy: 69.77%\n",
      "Epoch [137/500], Step [2/2], Loss: 0.8362, Accuracy: 68.22%\n",
      "Epoch [138/500], Step [2/2], Loss: 0.7522, Accuracy: 71.32%\n",
      "Epoch [139/500], Step [2/2], Loss: 0.8133, Accuracy: 70.54%\n",
      "Epoch [140/500], Step [2/2], Loss: 0.8926, Accuracy: 66.09%\n",
      "Epoch [141/500], Step [2/2], Loss: 0.8575, Accuracy: 67.64%\n",
      "Epoch [142/500], Step [2/2], Loss: 0.8999, Accuracy: 65.31%\n",
      "Epoch [143/500], Step [2/2], Loss: 0.7938, Accuracy: 70.54%\n",
      "Epoch [144/500], Step [2/2], Loss: 0.8722, Accuracy: 66.47%\n",
      "Epoch [145/500], Step [2/2], Loss: 0.8096, Accuracy: 68.02%\n",
      "Epoch [146/500], Step [2/2], Loss: 0.7520, Accuracy: 71.51%\n",
      "Epoch [147/500], Step [2/2], Loss: 0.7244, Accuracy: 73.84%\n",
      "Epoch [148/500], Step [2/2], Loss: 0.8545, Accuracy: 68.02%\n",
      "Epoch [149/500], Step [2/2], Loss: 0.7590, Accuracy: 73.06%\n",
      "Epoch [150/500], Step [2/2], Loss: 0.8074, Accuracy: 73.45%\n",
      "Epoch [151/500], Step [2/2], Loss: 0.7451, Accuracy: 71.12%\n",
      "Epoch [152/500], Step [2/2], Loss: 0.7319, Accuracy: 74.61%\n",
      "Epoch [153/500], Step [2/2], Loss: 0.7250, Accuracy: 72.48%\n",
      "Epoch [154/500], Step [2/2], Loss: 0.7380, Accuracy: 72.09%\n",
      "Epoch [155/500], Step [2/2], Loss: 0.7799, Accuracy: 73.06%\n",
      "Epoch [156/500], Step [2/2], Loss: 0.7583, Accuracy: 70.16%\n",
      "Epoch [157/500], Step [2/2], Loss: 0.7590, Accuracy: 71.90%\n",
      "Epoch [158/500], Step [2/2], Loss: 0.7923, Accuracy: 71.71%\n",
      "Epoch [159/500], Step [2/2], Loss: 0.7533, Accuracy: 73.26%\n",
      "Epoch [160/500], Step [2/2], Loss: 0.7401, Accuracy: 72.48%\n",
      "Epoch [161/500], Step [2/2], Loss: 0.7557, Accuracy: 73.45%\n",
      "Epoch [162/500], Step [2/2], Loss: 0.6880, Accuracy: 74.61%\n",
      "Epoch [163/500], Step [2/2], Loss: 0.8150, Accuracy: 71.32%\n",
      "Epoch [164/500], Step [2/2], Loss: 0.7541, Accuracy: 72.48%\n",
      "Epoch [165/500], Step [2/2], Loss: 0.7179, Accuracy: 74.61%\n",
      "Epoch [166/500], Step [2/2], Loss: 0.7722, Accuracy: 73.06%\n",
      "Epoch [167/500], Step [2/2], Loss: 0.7760, Accuracy: 72.48%\n",
      "Epoch [168/500], Step [2/2], Loss: 0.7087, Accuracy: 76.94%\n",
      "Epoch [169/500], Step [2/2], Loss: 0.7230, Accuracy: 71.51%\n",
      "Epoch [170/500], Step [2/2], Loss: 0.6826, Accuracy: 72.87%\n",
      "Epoch [171/500], Step [2/2], Loss: 0.8921, Accuracy: 66.47%\n",
      "Epoch [172/500], Step [2/2], Loss: 0.7774, Accuracy: 70.35%\n",
      "Epoch [173/500], Step [2/2], Loss: 0.7227, Accuracy: 74.03%\n",
      "Epoch [174/500], Step [2/2], Loss: 0.6888, Accuracy: 73.64%\n",
      "Epoch [175/500], Step [2/2], Loss: 0.7121, Accuracy: 75.58%\n",
      "Epoch [176/500], Step [2/2], Loss: 0.6548, Accuracy: 76.55%\n",
      "Epoch [177/500], Step [2/2], Loss: 0.7040, Accuracy: 73.45%\n",
      "Epoch [178/500], Step [2/2], Loss: 0.8189, Accuracy: 69.77%\n",
      "Epoch [179/500], Step [2/2], Loss: 0.8571, Accuracy: 69.38%\n",
      "Epoch [180/500], Step [2/2], Loss: 0.7447, Accuracy: 71.90%\n",
      "Epoch [181/500], Step [2/2], Loss: 0.6965, Accuracy: 74.61%\n",
      "Epoch [182/500], Step [2/2], Loss: 0.7568, Accuracy: 73.84%\n",
      "Epoch [183/500], Step [2/2], Loss: 0.7548, Accuracy: 70.74%\n",
      "Epoch [184/500], Step [2/2], Loss: 0.8697, Accuracy: 66.86%\n",
      "Epoch [185/500], Step [2/2], Loss: 0.7713, Accuracy: 71.51%\n",
      "Epoch [186/500], Step [2/2], Loss: 0.7765, Accuracy: 72.29%\n",
      "Epoch [187/500], Step [2/2], Loss: 0.7933, Accuracy: 71.51%\n",
      "Epoch [188/500], Step [2/2], Loss: 0.7711, Accuracy: 70.16%\n",
      "Epoch [189/500], Step [2/2], Loss: 0.7679, Accuracy: 69.19%\n",
      "Epoch [190/500], Step [2/2], Loss: 0.7497, Accuracy: 71.12%\n",
      "Epoch [191/500], Step [2/2], Loss: 0.7820, Accuracy: 70.74%\n",
      "Epoch [192/500], Step [2/2], Loss: 0.8283, Accuracy: 69.57%\n",
      "Epoch [193/500], Step [2/2], Loss: 0.8175, Accuracy: 68.22%\n",
      "Epoch [194/500], Step [2/2], Loss: 0.8383, Accuracy: 66.86%\n",
      "Epoch [195/500], Step [2/2], Loss: 0.7311, Accuracy: 73.26%\n",
      "Epoch [196/500], Step [2/2], Loss: 0.7752, Accuracy: 70.16%\n",
      "Epoch [197/500], Step [2/2], Loss: 0.7412, Accuracy: 70.35%\n",
      "Epoch [198/500], Step [2/2], Loss: 0.7502, Accuracy: 72.29%\n",
      "Epoch [199/500], Step [2/2], Loss: 0.6910, Accuracy: 75.97%\n",
      "Epoch [200/500], Step [2/2], Loss: 0.6538, Accuracy: 77.33%\n",
      "Epoch [201/500], Step [2/2], Loss: 0.6628, Accuracy: 76.16%\n",
      "Epoch [202/500], Step [2/2], Loss: 0.7433, Accuracy: 73.64%\n",
      "Epoch [203/500], Step [2/2], Loss: 0.7322, Accuracy: 75.00%\n",
      "Epoch [204/500], Step [2/2], Loss: 0.7227, Accuracy: 74.81%\n",
      "Epoch [205/500], Step [2/2], Loss: 0.6854, Accuracy: 76.36%\n",
      "Epoch [206/500], Step [2/2], Loss: 0.6911, Accuracy: 75.19%\n",
      "Epoch [207/500], Step [2/2], Loss: 0.6811, Accuracy: 76.94%\n",
      "Epoch [208/500], Step [2/2], Loss: 0.6728, Accuracy: 75.00%\n",
      "Epoch [209/500], Step [2/2], Loss: 0.6456, Accuracy: 76.94%\n",
      "Epoch [210/500], Step [2/2], Loss: 0.6711, Accuracy: 76.36%\n",
      "Epoch [211/500], Step [2/2], Loss: 0.6981, Accuracy: 75.97%\n",
      "Epoch [212/500], Step [2/2], Loss: 0.6736, Accuracy: 75.58%\n",
      "Epoch [213/500], Step [2/2], Loss: 0.6548, Accuracy: 73.06%\n",
      "Epoch [214/500], Step [2/2], Loss: 0.6450, Accuracy: 75.97%\n",
      "Epoch [215/500], Step [2/2], Loss: 0.6709, Accuracy: 77.33%\n",
      "Epoch [216/500], Step [2/2], Loss: 0.7205, Accuracy: 72.09%\n",
      "Epoch [217/500], Step [2/2], Loss: 0.6458, Accuracy: 76.94%\n",
      "Epoch [218/500], Step [2/2], Loss: 0.6343, Accuracy: 78.49%\n",
      "Epoch [219/500], Step [2/2], Loss: 0.6428, Accuracy: 76.94%\n",
      "Epoch [220/500], Step [2/2], Loss: 0.6255, Accuracy: 77.33%\n",
      "Epoch [221/500], Step [2/2], Loss: 0.6621, Accuracy: 77.71%\n",
      "Epoch [222/500], Step [2/2], Loss: 0.6124, Accuracy: 77.91%\n",
      "Epoch [223/500], Step [2/2], Loss: 0.6900, Accuracy: 73.64%\n",
      "Epoch [224/500], Step [2/2], Loss: 0.5944, Accuracy: 78.68%\n",
      "Epoch [225/500], Step [2/2], Loss: 0.6357, Accuracy: 76.74%\n",
      "Epoch [226/500], Step [2/2], Loss: 0.6227, Accuracy: 77.91%\n",
      "Epoch [227/500], Step [2/2], Loss: 0.6013, Accuracy: 77.91%\n",
      "Epoch [228/500], Step [2/2], Loss: 0.5970, Accuracy: 79.46%\n",
      "Epoch [229/500], Step [2/2], Loss: 0.6372, Accuracy: 77.52%\n",
      "Epoch [230/500], Step [2/2], Loss: 0.6567, Accuracy: 77.71%\n",
      "Epoch [231/500], Step [2/2], Loss: 0.6419, Accuracy: 75.97%\n",
      "Epoch [232/500], Step [2/2], Loss: 0.6701, Accuracy: 73.84%\n",
      "Epoch [233/500], Step [2/2], Loss: 0.6493, Accuracy: 77.52%\n",
      "Epoch [234/500], Step [2/2], Loss: 0.6425, Accuracy: 77.33%\n",
      "Epoch [235/500], Step [2/2], Loss: 0.6226, Accuracy: 76.16%\n",
      "Epoch [236/500], Step [2/2], Loss: 0.6905, Accuracy: 75.19%\n",
      "Epoch [237/500], Step [2/2], Loss: 0.6079, Accuracy: 78.29%\n",
      "Epoch [238/500], Step [2/2], Loss: 0.6849, Accuracy: 74.42%\n",
      "Epoch [239/500], Step [2/2], Loss: 0.6457, Accuracy: 76.94%\n",
      "Epoch [240/500], Step [2/2], Loss: 0.6802, Accuracy: 74.81%\n",
      "Epoch [241/500], Step [2/2], Loss: 0.6816, Accuracy: 76.94%\n",
      "Epoch [242/500], Step [2/2], Loss: 0.6225, Accuracy: 77.13%\n",
      "Epoch [243/500], Step [2/2], Loss: 0.6442, Accuracy: 75.78%\n",
      "Epoch [244/500], Step [2/2], Loss: 0.6028, Accuracy: 79.46%\n",
      "Epoch [245/500], Step [2/2], Loss: 0.6313, Accuracy: 77.13%\n",
      "Epoch [246/500], Step [2/2], Loss: 0.6143, Accuracy: 79.07%\n",
      "Epoch [247/500], Step [2/2], Loss: 0.6162, Accuracy: 76.55%\n",
      "Epoch [248/500], Step [2/2], Loss: 0.6331, Accuracy: 76.16%\n",
      "Epoch [249/500], Step [2/2], Loss: 0.6010, Accuracy: 78.29%\n",
      "Epoch [250/500], Step [2/2], Loss: 0.6529, Accuracy: 76.36%\n",
      "Epoch [251/500], Step [2/2], Loss: 0.5938, Accuracy: 77.91%\n",
      "Epoch [252/500], Step [2/2], Loss: 0.6135, Accuracy: 76.55%\n",
      "Epoch [253/500], Step [2/2], Loss: 0.6773, Accuracy: 75.58%\n",
      "Epoch [254/500], Step [2/2], Loss: 0.6046, Accuracy: 76.74%\n",
      "Epoch [255/500], Step [2/2], Loss: 0.6292, Accuracy: 77.91%\n",
      "Epoch [256/500], Step [2/2], Loss: 0.6728, Accuracy: 76.94%\n",
      "Epoch [257/500], Step [2/2], Loss: 0.6566, Accuracy: 73.84%\n",
      "Epoch [258/500], Step [2/2], Loss: 0.6165, Accuracy: 78.29%\n",
      "Epoch [259/500], Step [2/2], Loss: 0.6282, Accuracy: 78.29%\n",
      "Epoch [260/500], Step [2/2], Loss: 0.6820, Accuracy: 74.61%\n",
      "Epoch [261/500], Step [2/2], Loss: 0.6215, Accuracy: 76.36%\n",
      "Epoch [262/500], Step [2/2], Loss: 0.6938, Accuracy: 72.29%\n",
      "Epoch [263/500], Step [2/2], Loss: 0.6870, Accuracy: 75.78%\n",
      "Epoch [264/500], Step [2/2], Loss: 0.6345, Accuracy: 77.91%\n",
      "Epoch [265/500], Step [2/2], Loss: 0.6321, Accuracy: 77.13%\n",
      "Epoch [266/500], Step [2/2], Loss: 0.6194, Accuracy: 75.39%\n",
      "Epoch [267/500], Step [2/2], Loss: 0.6755, Accuracy: 76.16%\n",
      "Epoch [268/500], Step [2/2], Loss: 0.6113, Accuracy: 76.55%\n",
      "Epoch [269/500], Step [2/2], Loss: 0.6467, Accuracy: 75.78%\n",
      "Epoch [270/500], Step [2/2], Loss: 0.6826, Accuracy: 71.90%\n",
      "Epoch [271/500], Step [2/2], Loss: 0.6274, Accuracy: 75.19%\n",
      "Epoch [272/500], Step [2/2], Loss: 0.5912, Accuracy: 78.29%\n",
      "Epoch [273/500], Step [2/2], Loss: 0.5552, Accuracy: 79.65%\n",
      "Epoch [274/500], Step [2/2], Loss: 0.5815, Accuracy: 81.01%\n",
      "Epoch [275/500], Step [2/2], Loss: 0.5861, Accuracy: 79.84%\n",
      "Epoch [276/500], Step [2/2], Loss: 0.5635, Accuracy: 78.49%\n",
      "Epoch [277/500], Step [2/2], Loss: 0.5926, Accuracy: 80.62%\n",
      "Epoch [278/500], Step [2/2], Loss: 0.5493, Accuracy: 79.65%\n",
      "Epoch [279/500], Step [2/2], Loss: 0.5375, Accuracy: 80.04%\n",
      "Epoch [280/500], Step [2/2], Loss: 0.5477, Accuracy: 79.84%\n",
      "Epoch [281/500], Step [2/2], Loss: 0.5925, Accuracy: 78.29%\n",
      "Epoch [282/500], Step [2/2], Loss: 0.6099, Accuracy: 77.52%\n",
      "Epoch [283/500], Step [2/2], Loss: 0.6110, Accuracy: 77.33%\n",
      "Epoch [284/500], Step [2/2], Loss: 0.5627, Accuracy: 78.10%\n",
      "Epoch [285/500], Step [2/2], Loss: 0.5461, Accuracy: 82.36%\n",
      "Epoch [286/500], Step [2/2], Loss: 0.5538, Accuracy: 80.43%\n",
      "Epoch [287/500], Step [2/2], Loss: 0.5486, Accuracy: 80.62%\n",
      "Epoch [288/500], Step [2/2], Loss: 0.5594, Accuracy: 79.84%\n",
      "Epoch [289/500], Step [2/2], Loss: 0.5765, Accuracy: 81.01%\n",
      "Epoch [290/500], Step [2/2], Loss: 0.5756, Accuracy: 78.68%\n",
      "Epoch [291/500], Step [2/2], Loss: 0.5565, Accuracy: 82.36%\n",
      "Epoch [292/500], Step [2/2], Loss: 0.5453, Accuracy: 82.56%\n",
      "Epoch [293/500], Step [2/2], Loss: 0.5909, Accuracy: 77.33%\n",
      "Epoch [294/500], Step [2/2], Loss: 0.5545, Accuracy: 79.46%\n",
      "Epoch [295/500], Step [2/2], Loss: 0.5888, Accuracy: 77.52%\n",
      "Epoch [296/500], Step [2/2], Loss: 0.5426, Accuracy: 81.20%\n",
      "Epoch [297/500], Step [2/2], Loss: 0.5124, Accuracy: 84.30%\n",
      "Epoch [298/500], Step [2/2], Loss: 0.5465, Accuracy: 80.62%\n",
      "Epoch [299/500], Step [2/2], Loss: 0.6180, Accuracy: 79.84%\n",
      "Epoch [300/500], Step [2/2], Loss: 0.5692, Accuracy: 78.10%\n",
      "Epoch [301/500], Step [2/2], Loss: 0.5568, Accuracy: 82.17%\n",
      "Epoch [302/500], Step [2/2], Loss: 0.5891, Accuracy: 77.13%\n",
      "Epoch [303/500], Step [2/2], Loss: 0.5279, Accuracy: 79.46%\n",
      "Epoch [304/500], Step [2/2], Loss: 0.5521, Accuracy: 81.20%\n",
      "Epoch [305/500], Step [2/2], Loss: 0.5923, Accuracy: 78.10%\n",
      "Epoch [306/500], Step [2/2], Loss: 0.5162, Accuracy: 80.62%\n",
      "Epoch [307/500], Step [2/2], Loss: 0.5456, Accuracy: 79.65%\n",
      "Epoch [308/500], Step [2/2], Loss: 0.5406, Accuracy: 80.23%\n",
      "Epoch [309/500], Step [2/2], Loss: 0.6015, Accuracy: 77.13%\n",
      "Epoch [310/500], Step [2/2], Loss: 0.5628, Accuracy: 80.62%\n",
      "Epoch [311/500], Step [2/2], Loss: 0.5260, Accuracy: 80.62%\n",
      "Epoch [312/500], Step [2/2], Loss: 0.5433, Accuracy: 81.59%\n",
      "Epoch [313/500], Step [2/2], Loss: 0.5450, Accuracy: 80.43%\n",
      "Epoch [314/500], Step [2/2], Loss: 0.5335, Accuracy: 80.04%\n",
      "Epoch [315/500], Step [2/2], Loss: 0.5432, Accuracy: 80.04%\n",
      "Epoch [316/500], Step [2/2], Loss: 0.5743, Accuracy: 79.46%\n",
      "Epoch [317/500], Step [2/2], Loss: 0.5696, Accuracy: 77.52%\n",
      "Epoch [318/500], Step [2/2], Loss: 0.5378, Accuracy: 79.65%\n",
      "Epoch [319/500], Step [2/2], Loss: 0.6019, Accuracy: 80.43%\n",
      "Epoch [320/500], Step [2/2], Loss: 0.5988, Accuracy: 78.10%\n",
      "Epoch [321/500], Step [2/2], Loss: 0.7010, Accuracy: 73.84%\n",
      "Epoch [322/500], Step [2/2], Loss: 0.5487, Accuracy: 78.49%\n",
      "Epoch [323/500], Step [2/2], Loss: 0.5516, Accuracy: 80.62%\n",
      "Epoch [324/500], Step [2/2], Loss: 0.6107, Accuracy: 78.10%\n",
      "Epoch [325/500], Step [2/2], Loss: 0.5890, Accuracy: 78.29%\n",
      "Epoch [326/500], Step [2/2], Loss: 0.5852, Accuracy: 80.43%\n",
      "Epoch [327/500], Step [2/2], Loss: 0.6360, Accuracy: 75.19%\n",
      "Epoch [328/500], Step [2/2], Loss: 0.5489, Accuracy: 81.20%\n",
      "Epoch [329/500], Step [2/2], Loss: 0.5513, Accuracy: 81.40%\n",
      "Epoch [330/500], Step [2/2], Loss: 0.5828, Accuracy: 80.04%\n",
      "Epoch [331/500], Step [2/2], Loss: 0.5366, Accuracy: 79.46%\n",
      "Epoch [332/500], Step [2/2], Loss: 0.5589, Accuracy: 80.23%\n",
      "Epoch [333/500], Step [2/2], Loss: 0.5441, Accuracy: 81.59%\n",
      "Epoch [334/500], Step [2/2], Loss: 0.5155, Accuracy: 82.36%\n",
      "Epoch [335/500], Step [2/2], Loss: 0.5599, Accuracy: 79.84%\n",
      "Epoch [336/500], Step [2/2], Loss: 0.6021, Accuracy: 77.52%\n",
      "Epoch [337/500], Step [2/2], Loss: 0.6452, Accuracy: 74.61%\n",
      "Epoch [338/500], Step [2/2], Loss: 1.3099, Accuracy: 58.53%\n",
      "Epoch [339/500], Step [2/2], Loss: 1.8617, Accuracy: 42.83%\n",
      "Epoch [340/500], Step [2/2], Loss: 3.8396, Accuracy: 17.25%\n",
      "Epoch [341/500], Step [2/2], Loss: 1.6272, Accuracy: 37.40%\n",
      "Epoch [342/500], Step [2/2], Loss: 2.1898, Accuracy: 22.09%\n",
      "Epoch [343/500], Step [2/2], Loss: 2.0021, Accuracy: 32.75%\n",
      "Epoch [344/500], Step [2/2], Loss: 1.5748, Accuracy: 43.22%\n",
      "Epoch [345/500], Step [2/2], Loss: 1.6320, Accuracy: 35.08%\n",
      "Epoch [346/500], Step [2/2], Loss: 1.3393, Accuracy: 48.26%\n",
      "Epoch [347/500], Step [2/2], Loss: 1.2291, Accuracy: 50.00%\n",
      "Epoch [348/500], Step [2/2], Loss: 1.1204, Accuracy: 56.98%\n",
      "Epoch [349/500], Step [2/2], Loss: 1.0116, Accuracy: 63.18%\n",
      "Epoch [350/500], Step [2/2], Loss: 0.9959, Accuracy: 66.47%\n",
      "Epoch [351/500], Step [2/2], Loss: 0.8746, Accuracy: 65.12%\n",
      "Epoch [352/500], Step [2/2], Loss: 0.9681, Accuracy: 63.76%\n",
      "Epoch [353/500], Step [2/2], Loss: 0.8569, Accuracy: 68.80%\n",
      "Epoch [354/500], Step [2/2], Loss: 0.9056, Accuracy: 63.57%\n",
      "Epoch [355/500], Step [2/2], Loss: 0.8850, Accuracy: 67.05%\n",
      "Epoch [356/500], Step [2/2], Loss: 0.8488, Accuracy: 70.54%\n",
      "Epoch [357/500], Step [2/2], Loss: 0.8504, Accuracy: 68.41%\n",
      "Epoch [358/500], Step [2/2], Loss: 0.7719, Accuracy: 72.87%\n",
      "Epoch [359/500], Step [2/2], Loss: 0.8519, Accuracy: 65.70%\n",
      "Epoch [360/500], Step [2/2], Loss: 0.7767, Accuracy: 72.09%\n",
      "Epoch [361/500], Step [2/2], Loss: 0.7929, Accuracy: 69.57%\n",
      "Epoch [362/500], Step [2/2], Loss: 0.7291, Accuracy: 74.42%\n",
      "Epoch [363/500], Step [2/2], Loss: 0.8001, Accuracy: 70.54%\n",
      "Epoch [364/500], Step [2/2], Loss: 0.7709, Accuracy: 71.32%\n",
      "Epoch [365/500], Step [2/2], Loss: 0.7600, Accuracy: 69.96%\n",
      "Epoch [366/500], Step [2/2], Loss: 0.7520, Accuracy: 70.93%\n",
      "Epoch [367/500], Step [2/2], Loss: 0.7306, Accuracy: 72.29%\n",
      "Epoch [368/500], Step [2/2], Loss: 0.7879, Accuracy: 66.67%\n",
      "Epoch [369/500], Step [2/2], Loss: 0.7333, Accuracy: 71.71%\n",
      "Epoch [370/500], Step [2/2], Loss: 0.7370, Accuracy: 74.81%\n",
      "Epoch [371/500], Step [2/2], Loss: 0.7746, Accuracy: 68.80%\n",
      "Epoch [372/500], Step [2/2], Loss: 0.7071, Accuracy: 73.06%\n",
      "Epoch [373/500], Step [2/2], Loss: 0.7002, Accuracy: 74.42%\n",
      "Epoch [374/500], Step [2/2], Loss: 0.7384, Accuracy: 72.29%\n",
      "Epoch [375/500], Step [2/2], Loss: 0.7108, Accuracy: 74.42%\n",
      "Epoch [376/500], Step [2/2], Loss: 0.7090, Accuracy: 76.55%\n",
      "Epoch [377/500], Step [2/2], Loss: 0.7342, Accuracy: 73.64%\n",
      "Epoch [378/500], Step [2/2], Loss: 0.7087, Accuracy: 72.48%\n",
      "Epoch [379/500], Step [2/2], Loss: 0.7316, Accuracy: 73.06%\n",
      "Epoch [380/500], Step [2/2], Loss: 0.6715, Accuracy: 76.36%\n",
      "Epoch [381/500], Step [2/2], Loss: 0.6670, Accuracy: 75.78%\n",
      "Epoch [382/500], Step [2/2], Loss: 0.7241, Accuracy: 73.45%\n",
      "Epoch [383/500], Step [2/2], Loss: 0.6758, Accuracy: 76.94%\n",
      "Epoch [384/500], Step [2/2], Loss: 0.7044, Accuracy: 74.42%\n",
      "Epoch [385/500], Step [2/2], Loss: 0.7386, Accuracy: 72.67%\n",
      "Epoch [386/500], Step [2/2], Loss: 0.7264, Accuracy: 70.54%\n",
      "Epoch [387/500], Step [2/2], Loss: 0.7506, Accuracy: 72.67%\n",
      "Epoch [388/500], Step [2/2], Loss: 0.7114, Accuracy: 73.45%\n",
      "Epoch [389/500], Step [2/2], Loss: 0.6905, Accuracy: 75.58%\n",
      "Epoch [390/500], Step [2/2], Loss: 0.7124, Accuracy: 71.32%\n",
      "Epoch [391/500], Step [2/2], Loss: 0.7445, Accuracy: 73.26%\n",
      "Epoch [392/500], Step [2/2], Loss: 0.7150, Accuracy: 73.26%\n",
      "Epoch [393/500], Step [2/2], Loss: 0.6505, Accuracy: 77.33%\n",
      "Epoch [394/500], Step [2/2], Loss: 0.6602, Accuracy: 73.84%\n",
      "Epoch [395/500], Step [2/2], Loss: 0.7197, Accuracy: 72.48%\n",
      "Epoch [396/500], Step [2/2], Loss: 0.7351, Accuracy: 71.71%\n",
      "Epoch [397/500], Step [2/2], Loss: 0.6830, Accuracy: 73.84%\n",
      "Epoch [398/500], Step [2/2], Loss: 0.7080, Accuracy: 74.61%\n",
      "Epoch [399/500], Step [2/2], Loss: 0.7257, Accuracy: 71.71%\n",
      "Epoch [400/500], Step [2/2], Loss: 0.6955, Accuracy: 77.33%\n",
      "Epoch [401/500], Step [2/2], Loss: 0.6639, Accuracy: 76.55%\n",
      "Epoch [402/500], Step [2/2], Loss: 0.6505, Accuracy: 75.58%\n",
      "Epoch [403/500], Step [2/2], Loss: 0.6622, Accuracy: 74.81%\n",
      "Epoch [404/500], Step [2/2], Loss: 0.6912, Accuracy: 73.64%\n",
      "Epoch [405/500], Step [2/2], Loss: 0.7355, Accuracy: 70.54%\n",
      "Epoch [406/500], Step [2/2], Loss: 0.6584, Accuracy: 76.55%\n",
      "Epoch [407/500], Step [2/2], Loss: 0.6719, Accuracy: 73.84%\n",
      "Epoch [408/500], Step [2/2], Loss: 0.6882, Accuracy: 75.97%\n",
      "Epoch [409/500], Step [2/2], Loss: 0.6793, Accuracy: 75.39%\n",
      "Epoch [410/500], Step [2/2], Loss: 0.6515, Accuracy: 76.36%\n",
      "Epoch [411/500], Step [2/2], Loss: 0.6976, Accuracy: 75.58%\n",
      "Epoch [412/500], Step [2/2], Loss: 0.6995, Accuracy: 70.74%\n",
      "Epoch [413/500], Step [2/2], Loss: 0.6628, Accuracy: 75.78%\n",
      "Epoch [414/500], Step [2/2], Loss: 0.6557, Accuracy: 73.64%\n",
      "Epoch [415/500], Step [2/2], Loss: 0.6032, Accuracy: 78.10%\n",
      "Epoch [416/500], Step [2/2], Loss: 0.6879, Accuracy: 73.26%\n",
      "Epoch [417/500], Step [2/2], Loss: 0.6545, Accuracy: 75.39%\n",
      "Epoch [418/500], Step [2/2], Loss: 0.6229, Accuracy: 74.61%\n",
      "Epoch [419/500], Step [2/2], Loss: 0.7280, Accuracy: 72.09%\n",
      "Epoch [420/500], Step [2/2], Loss: 0.7052, Accuracy: 71.51%\n",
      "Epoch [421/500], Step [2/2], Loss: 0.6815, Accuracy: 74.03%\n",
      "Epoch [422/500], Step [2/2], Loss: 0.6861, Accuracy: 72.67%\n",
      "Epoch [423/500], Step [2/2], Loss: 0.6318, Accuracy: 77.52%\n",
      "Epoch [424/500], Step [2/2], Loss: 0.6321, Accuracy: 77.71%\n",
      "Epoch [425/500], Step [2/2], Loss: 0.6601, Accuracy: 72.29%\n",
      "Epoch [426/500], Step [2/2], Loss: 0.6542, Accuracy: 76.94%\n",
      "Epoch [427/500], Step [2/2], Loss: 0.6906, Accuracy: 76.36%\n",
      "Epoch [428/500], Step [2/2], Loss: 0.6915, Accuracy: 74.03%\n",
      "Epoch [429/500], Step [2/2], Loss: 0.6940, Accuracy: 75.19%\n",
      "Epoch [430/500], Step [2/2], Loss: 0.6920, Accuracy: 75.97%\n",
      "Epoch [431/500], Step [2/2], Loss: 0.6493, Accuracy: 76.36%\n",
      "Epoch [432/500], Step [2/2], Loss: 0.7091, Accuracy: 73.45%\n",
      "Epoch [433/500], Step [2/2], Loss: 0.7719, Accuracy: 71.90%\n",
      "Epoch [434/500], Step [2/2], Loss: 0.6721, Accuracy: 75.78%\n",
      "Epoch [435/500], Step [2/2], Loss: 0.6698, Accuracy: 74.61%\n",
      "Epoch [436/500], Step [2/2], Loss: 0.6298, Accuracy: 75.58%\n",
      "Epoch [437/500], Step [2/2], Loss: 0.6666, Accuracy: 73.64%\n",
      "Epoch [438/500], Step [2/2], Loss: 0.6220, Accuracy: 76.36%\n",
      "Epoch [439/500], Step [2/2], Loss: 0.6180, Accuracy: 77.71%\n",
      "Epoch [440/500], Step [2/2], Loss: 0.7097, Accuracy: 75.58%\n",
      "Epoch [441/500], Step [2/2], Loss: 0.6212, Accuracy: 76.94%\n",
      "Epoch [442/500], Step [2/2], Loss: 0.6365, Accuracy: 75.78%\n",
      "Epoch [443/500], Step [2/2], Loss: 0.6336, Accuracy: 77.52%\n",
      "Epoch [444/500], Step [2/2], Loss: 0.6292, Accuracy: 76.36%\n",
      "Epoch [445/500], Step [2/2], Loss: 0.6629, Accuracy: 77.33%\n",
      "Epoch [446/500], Step [2/2], Loss: 0.6484, Accuracy: 77.33%\n",
      "Epoch [447/500], Step [2/2], Loss: 0.6230, Accuracy: 76.74%\n",
      "Epoch [448/500], Step [2/2], Loss: 0.6239, Accuracy: 76.74%\n",
      "Epoch [449/500], Step [2/2], Loss: 0.6843, Accuracy: 76.16%\n",
      "Epoch [450/500], Step [2/2], Loss: 0.6376, Accuracy: 75.19%\n",
      "Epoch [451/500], Step [2/2], Loss: 0.6430, Accuracy: 77.33%\n",
      "Epoch [452/500], Step [2/2], Loss: 0.5842, Accuracy: 77.33%\n",
      "Epoch [453/500], Step [2/2], Loss: 0.6369, Accuracy: 75.58%\n",
      "Epoch [454/500], Step [2/2], Loss: 0.6172, Accuracy: 76.36%\n",
      "Epoch [455/500], Step [2/2], Loss: 0.5811, Accuracy: 79.26%\n",
      "Epoch [456/500], Step [2/2], Loss: 0.5812, Accuracy: 77.13%\n",
      "Epoch [457/500], Step [2/2], Loss: 0.6104, Accuracy: 78.10%\n",
      "Epoch [458/500], Step [2/2], Loss: 0.6182, Accuracy: 75.00%\n",
      "Epoch [459/500], Step [2/2], Loss: 0.6095, Accuracy: 78.49%\n",
      "Epoch [460/500], Step [2/2], Loss: 0.6205, Accuracy: 77.71%\n",
      "Epoch [461/500], Step [2/2], Loss: 0.6253, Accuracy: 75.58%\n",
      "Epoch [462/500], Step [2/2], Loss: 0.6797, Accuracy: 73.64%\n",
      "Epoch [463/500], Step [2/2], Loss: 0.5987, Accuracy: 77.91%\n",
      "Epoch [464/500], Step [2/2], Loss: 0.6733, Accuracy: 73.45%\n",
      "Epoch [465/500], Step [2/2], Loss: 0.6307, Accuracy: 74.81%\n",
      "Epoch [466/500], Step [2/2], Loss: 0.6182, Accuracy: 75.39%\n",
      "Epoch [467/500], Step [2/2], Loss: 0.6116, Accuracy: 77.13%\n",
      "Epoch [468/500], Step [2/2], Loss: 0.5606, Accuracy: 79.65%\n",
      "Epoch [469/500], Step [2/2], Loss: 0.6146, Accuracy: 76.36%\n",
      "Epoch [470/500], Step [2/2], Loss: 0.6276, Accuracy: 77.13%\n",
      "Epoch [471/500], Step [2/2], Loss: 0.5677, Accuracy: 79.84%\n",
      "Epoch [472/500], Step [2/2], Loss: 0.6332, Accuracy: 78.29%\n",
      "Epoch [473/500], Step [2/2], Loss: 0.5584, Accuracy: 78.29%\n",
      "Epoch [474/500], Step [2/2], Loss: 0.6494, Accuracy: 77.13%\n",
      "Epoch [475/500], Step [2/2], Loss: 0.6321, Accuracy: 76.55%\n",
      "Epoch [476/500], Step [2/2], Loss: 0.6407, Accuracy: 78.29%\n",
      "Epoch [477/500], Step [2/2], Loss: 0.6633, Accuracy: 74.42%\n",
      "Epoch [478/500], Step [2/2], Loss: 0.6414, Accuracy: 78.10%\n",
      "Epoch [479/500], Step [2/2], Loss: 0.6454, Accuracy: 76.36%\n",
      "Epoch [480/500], Step [2/2], Loss: 0.5797, Accuracy: 80.04%\n",
      "Epoch [481/500], Step [2/2], Loss: 0.5667, Accuracy: 81.20%\n",
      "Epoch [482/500], Step [2/2], Loss: 0.6425, Accuracy: 75.39%\n",
      "Epoch [483/500], Step [2/2], Loss: 0.6338, Accuracy: 76.55%\n",
      "Epoch [484/500], Step [2/2], Loss: 0.6049, Accuracy: 76.74%\n",
      "Epoch [485/500], Step [2/2], Loss: 0.5645, Accuracy: 78.29%\n",
      "Epoch [486/500], Step [2/2], Loss: 0.5483, Accuracy: 79.65%\n",
      "Epoch [487/500], Step [2/2], Loss: 0.6168, Accuracy: 76.16%\n",
      "Epoch [488/500], Step [2/2], Loss: 0.5413, Accuracy: 79.65%\n",
      "Epoch [489/500], Step [2/2], Loss: 0.5696, Accuracy: 77.52%\n",
      "Epoch [490/500], Step [2/2], Loss: 0.6055, Accuracy: 79.07%\n",
      "Epoch [491/500], Step [2/2], Loss: 0.5746, Accuracy: 77.13%\n",
      "Epoch [492/500], Step [2/2], Loss: 0.6563, Accuracy: 75.19%\n",
      "Epoch [493/500], Step [2/2], Loss: 0.6524, Accuracy: 75.97%\n",
      "Epoch [494/500], Step [2/2], Loss: 0.6357, Accuracy: 74.81%\n",
      "Epoch [495/500], Step [2/2], Loss: 0.5860, Accuracy: 77.91%\n",
      "Epoch [496/500], Step [2/2], Loss: 0.6015, Accuracy: 76.55%\n",
      "Epoch [497/500], Step [2/2], Loss: 0.6388, Accuracy: 76.74%\n",
      "Epoch [498/500], Step [2/2], Loss: 0.5927, Accuracy: 76.74%\n",
      "Epoch [499/500], Step [2/2], Loss: 0.6305, Accuracy: 77.33%\n",
      "Epoch [500/500], Step [2/2], Loss: 0.5877, Accuracy: 78.68%\n"
     ],
     "name": "stdout"
    }
   ]
  },
  {
   "cell_type": "markdown",
   "metadata": {
    "id": "Y2MNr2Egg1z_"
   },
   "source": [
    "The training accuracy usually starts out below 10%, which makes sense as chance 100/14 = 7%. It usually quickly goes up to around 80%. The model can get better if you run more epochs, but this is sufficient for now. "
   ],
   "id": "Y2MNr2Egg1z_"
  },
  {
   "cell_type": "markdown",
   "metadata": {
    "id": "tIejNowNa2H_"
   },
   "source": [
    " Now we want to see performance on the test data set:"
   ],
   "id": "tIejNowNa2H_"
  },
  {
   "cell_type": "code",
   "metadata": {
    "id": "NaIREOIeec-1",
    "colab": {
     "base_uri": "https://localhost:8080/"
    },
    "outputId": "e67d8eab-77b6-4ea1-9ea0-917ce93041c4"
   },
   "source": [
    "# Test the model\n",
    "model.eval()\n",
    "real_labels, predicted_labels = [], []\n",
    "with torch.no_grad():\n",
    "  correct = 0\n",
    "  total = 0\n",
    "  for motions, labels in test_loader:\n",
    "    motions, labels = motions.to(device), labels.to(device)\n",
    "    real_labels += list(labels)\n",
    "    outputs = model(motions)\n",
    "    _, predicted = torch.max(outputs.data, 1)\n",
    "    predicted_labels += list(predicted)\n",
    "    total += labels.size(0)\n",
    "    correct += (predicted == labels).sum().item()\n",
    "\n",
    "  print(f\"Test Accuracy of the model on the 172 test moves: {(correct / total)*100:.3f}%\")"
   ],
   "id": "NaIREOIeec-1",
   "execution_count": 17,
   "outputs": [
    {
     "output_type": "stream",
     "text": [
      "Test Accuracy of the model on the 172 test moves: 73.837%\n"
     ],
     "name": "stdout"
    }
   ]
  },
  {
   "cell_type": "markdown",
   "metadata": {
    "id": "wbu_cAU5emsh"
   },
   "source": [
    "Considering that we have a relatively small data set, and a fairly simple model that didn't really converge, this is decent performance (chance is ~7%). Let's look at where the errors are:"
   ],
   "id": "wbu_cAU5emsh"
  },
  {
   "cell_type": "code",
   "metadata": {
    "id": "5Z-cA1FXe0Sl",
    "colab": {
     "base_uri": "https://localhost:8080/",
     "height": 431
    },
    "outputId": "0d25d16c-977f-4f02-c9d6-fa2cb66e2b9e"
   },
   "source": [
    "# plt.style.use('dark_background')  # uncomment if you're using dark mode...\n",
    "plotConfusionMatrix(real_labels, predicted_labels, label_names)"
   ],
   "id": "5Z-cA1FXe0Sl",
   "execution_count": 18,
   "outputs": [
    {
     "output_type": "display_data",
     "data": {
      "image/png": "[encoded data removed]",
      "text/plain": [
       "<Figure size 576x432 with 1 Axes>"
      ]
     },
     "metadata": {
      "tags": [],
      "image/png": {
       "width": 414,
       "height": 414
      },
      "needs_background": "light"
     }
    }
   ]
  },
  {
   "cell_type": "markdown",
   "metadata": {
    "id": "BHhhRjL2e5q_"
   },
   "source": [
    "The errors vary each time the model is run, but a common error seems to be that head scratching is predicted from some other movements that also involve arms a lot: throw/catch, hand clapping, phone talking, checking watch, hand waving, taking photo. If we train the model longer, these errors tend to go away as well. For some reason, crossed legged sitting is sometimes misclassified for crawling, but this doesn't always happen."
   ],
   "id": "BHhhRjL2e5q_"
  },
  {
   "cell_type": "markdown",
   "metadata": {
    "id": "compliant-session"
   },
   "source": [
    "---\n",
    "# Step 8: Modeling completion\n",
    "\n",
    "Are we done yet? In order to answer our questions, reach our goals and evaluate our hypotheses we need to be able to get test performance from the model, and might want to investigate any errors that the model makes. We will first make a function that fits the model on a specified set of joints\n"
   ],
   "id": "compliant-session"
  },
  {
   "cell_type": "code",
   "metadata": {
    "id": "L58_BD8pkJF5"
   },
   "source": [
    "def testJointModel(joints=list(range(24)),\n",
    "                   num_epochs = 500,\n",
    "                   batch_size=516,\n",
    "                   learning_rate = 0.001):\n",
    "\n",
    "  # Hyperparameters\n",
    "  num_classes = 14\n",
    "  \n",
    "  # Create training and test datasets\n",
    "  movi_train = MoViJointDataset(train  = True, joints = joints)\n",
    "  movi_test  = MoViJointDataset(train  = False, joints = joints)\n",
    "\n",
    "  # Data loaders\n",
    "  train_loader = DataLoader(dataset=movi_train, batch_size=batch_size, shuffle=True)\n",
    "  test_loader  = DataLoader(dataset=movi_test, batch_size=batch_size,  shuffle=False)\n",
    "\n",
    "  # create the model object:\n",
    "  model = Mov1DCNN(njoints=len(joints)).to(device)\n",
    "\n",
    "  # loss and optimizer:\n",
    "  criterion = nn.CrossEntropyLoss()\n",
    "  optimizer = torch.optim.Adam(model.parameters(), lr=learning_rate)\n",
    "\n",
    "  # Train the model\n",
    "  for epoch in range(num_epochs):\n",
    "    for i, (motions, labels) in enumerate(train_loader):\n",
    "      motions, labels = motions.to(device), labels.to(device)\n",
    "\n",
    "      # Run the forward pass\n",
    "      outputs = model(motions)\n",
    "      loss = criterion(outputs, labels)\n",
    "      loss_list.append(loss.item())\n",
    "\n",
    "      # Backprop and perform Adam optimisation\n",
    "      optimizer.zero_grad()\n",
    "      loss.backward()\n",
    "      optimizer.step()\n",
    "\n",
    "      # Track the accuracy\n",
    "      total = labels.size(0)\n",
    "  \n",
    "  # Test the model\n",
    "  model.eval()\n",
    "  real_labels, predicted_labels = [], []\n",
    "  with torch.no_grad():\n",
    "    correct = 0\n",
    "    total = 0\n",
    "    for motions, labels in test_loader:\n",
    "      motions, labels = motions.to(device), labels.to(device)\n",
    "      real_labels += list(labels)\n",
    "      outputs = model(motions)\n",
    "      _, predicted = torch.max(outputs.data, 1)\n",
    "      predicted_labels += list(predicted)\n",
    "      total += labels.size(0)\n",
    "      correct += (predicted == labels).sum().item()\n",
    "\n",
    "  performance = (correct / total) * 100\n",
    "\n",
    "  return {'performance': performance,\n",
    "          'real_labels': real_labels,\n",
    "          'predicted_labels': predicted_labels}"
   ],
   "id": "L58_BD8pkJF5",
   "execution_count": 19,
   "outputs": []
  },
  {
   "cell_type": "markdown",
   "metadata": {
    "id": "wwuF1ioak3Ug"
   },
   "source": [
    "Let's test this on a few select joints:\n",
    "\n",
    "**This takes up to ~10 seconds:**"
   ],
   "id": "wwuF1ioak3Ug"
  },
  {
   "cell_type": "code",
   "metadata": {
    "id": "3gJpwYWIk9RM",
    "colab": {
     "base_uri": "https://localhost:8080/",
     "height": 448
    },
    "outputId": "a479f38b-597f-429e-a3bf-6bb1e6bc8f39"
   },
   "source": [
    "cnn6j = testJointModel(joints=[0, 10, 11, 15, 22, 23])\n",
    "print(cnn6j['performance'])\n",
    "plotConfusionMatrix(real_labels = cnn6j['real_labels'], predicted_labels = cnn6j['predicted_labels'], label_names=label_names)"
   ],
   "id": "3gJpwYWIk9RM",
   "execution_count": 20,
   "outputs": [
    {
     "output_type": "stream",
     "text": [
      "68.6046511627907\n"
     ],
     "name": "stdout"
    },
    {
     "output_type": "display_data",
     "data": {
      "image/png": "[encoded data removed]",
      "text/plain": [
       "<Figure size 576x432 with 1 Axes>"
      ]
     },
     "metadata": {
      "tags": [],
      "image/png": {
       "width": 414,
       "height": 414
      },
      "needs_background": "light"
     }
    }
   ]
  },
  {
   "cell_type": "markdown",
   "metadata": {
    "id": "9XMG8T0Ogp0y"
   },
   "source": [
    "That is some pretty good performance based on only 6 / 24 joints!\n",
    "\n",
    "* Can we answer our question? --> YES, we can classify movement, and we can do so based on a sub-set of joints.\n",
    "* Have we reached our goals? --> YES, this pilot study shows that we can decode movement type based on skeletal joint motion data.\n",
    "* Can we evaluate our hypotheses? --> YES, we can now test the specific model performances and compare them.\n",
    "\n",
    "Good news, looks like we're done with a first iteration of modeling!"
   ],
   "id": "9XMG8T0Ogp0y"
  },
  {
   "cell_type": "markdown",
   "metadata": {
    "id": "strategic-throw"
   },
   "source": [
    "---\n",
    "# Step 9: Model evaluation\n",
    "\n",
    "We can now see how well our model actual does, by running it to test our hypotheses. To test our hypotheses, we will group the joints into limbs:\n"
   ],
   "id": "strategic-throw"
  },
  {
   "cell_type": "code",
   "metadata": {
    "id": "H3CG_lzdi0KB"
   },
   "source": [
    "limb_joints = {'Left Leg': [1, 4, 7, 10],\n",
    "               'Right Leg': [2, 5, 8, 1],\n",
    "               'Left Arm': [13, 16, 18, 20, 22],\n",
    "               'Right Arm': [14, 17, 19, 21, 23],\n",
    "               'Torso': [0, 3, 6, 9],\n",
    "               'Head': [12, 15]}"
   ],
   "id": "H3CG_lzdi0KB",
   "execution_count": 21,
   "outputs": []
  },
  {
   "cell_type": "markdown",
   "metadata": {
    "id": "EFddDEAmjN_z"
   },
   "source": [
    "Our second hypothesis was that since our participants are right handed, the right arm will give as better classification performance than the left arm. We will fit the model on each individual limb, and then we can compare performance on the left and right arm.\n",
    "\n",
    "**This should take up to ~1 minute!**"
   ],
   "id": "EFddDEAmjN_z"
  },
  {
   "cell_type": "code",
   "metadata": {
    "id": "p4h9ABawjcEl",
    "colab": {
     "base_uri": "https://localhost:8080/"
    },
    "outputId": "45dc330a-490e-45fd-9449-3e2336c4a34f"
   },
   "source": [
    "limb_fits = {}\n",
    "for limb in limb_joints.keys():\n",
    "  print(f\"\\n*** FITTING: {limb}\")\n",
    "\n",
    "  joints = limb_joints[limb]\n",
    "  limb_fit = testJointModel(joints=joints)\n",
    "  limb_fits[limb] = limb_fit\n",
    "  print(f\"limb performance: {limb_fit['performance']:.2f}%\")"
   ],
   "id": "p4h9ABawjcEl",
   "execution_count": 22,
   "outputs": [
    {
     "output_type": "stream",
     "text": [
      "\n",
      "*** FITTING: Left Leg\n",
      "78.48837209302324\n",
      "\n",
      "*** FITTING: Right Leg\n",
      "76.74418604651163\n",
      "\n",
      "*** FITTING: Left Arm\n",
      "60.46511627906976\n",
      "\n",
      "*** FITTING: Right Arm\n",
      "37.7906976744186\n",
      "\n",
      "*** FITTING: Torso\n",
      "77.90697674418605\n",
      "\n",
      "*** FITTING: Head\n",
      "49.41860465116279\n"
     ],
     "name": "stdout"
    }
   ]
  },
  {
   "cell_type": "markdown",
   "metadata": {
    "id": "Y3_XyAZap9oJ"
   },
   "source": [
    "Every time we run this, we get something along these lines:\n",
    "\n",
    "```\n",
    "*** FITTING: LeftLeg\n",
    "limb performance: 65.70%\n",
    "*** FITTING: RightLeg\n",
    "limb performance: 50.58%\n",
    "*** FITTING: LeftArm\n",
    "limb performance: 37.21%\n",
    "*** FITTING: RightArm\n",
    "limb performance: 22.09%\n",
    "*** FITTING: Torso\n",
    "limb performance: 73.84%\n",
    "*** FITTING: Head\n",
    "limb performance: 39.53%\n",
    "```\n",
    "\n",
    "\n",
    "\n",
    "For a formal test, you'd fit each model a number of times and let it converge by using many more epochs. We don't really have time for that here, but the pattern is fairly clear already. The head and arms are the worst, the legs are better, and the torso usually wins!\n",
    "\n",
    "The left arm seems to outperform the right arm in classifying movements. That was not what we expected. Maybe we should repeat this with left-handed participants to see if their right arm works better?"
   ],
   "id": "Y3_XyAZap9oJ"
  },
  {
   "cell_type": "markdown",
   "metadata": {
    "id": "XnDAKFmpsT0U"
   },
   "source": [
    "We still want to test our first hypothesis, which we're not so certain about any more, given the performance above: the torso outperforms the other limbs. But that doesn't mean that a model with arms and legs only is necessarily worse than a model with arms, legs and head and torso as well.\n",
    "\n",
    "We will test each of these models six times, and take the median performance.\n",
    "\n",
    "**This takes up to ~4 minutes!** (About 2 minutes per kind of model.)"
   ],
   "id": "XnDAKFmpsT0U"
  },
  {
   "cell_type": "code",
   "metadata": {
    "id": "_7O-VJcavoOE",
    "colab": {
     "base_uri": "https://localhost:8080/"
    },
    "outputId": "123f0ceb-a4bb-414b-b555-a9750409d465"
   },
   "source": [
    "limb_sets = {'limbs only':['Left Leg', 'Right Leg', 'Left Arm', 'Right Arm'],\n",
    "             'limbs+torso+head':['Left Leg', 'Right Leg', 'Left Arm',\n",
    "                                 'Right Arm', 'Torso', 'Head']}\n",
    "\n",
    "for limb_set in limb_sets.keys():\n",
    "  print(f\"\\n*** FITTING: {limb_set}\")\n",
    "  \n",
    "  limbs = limb_sets[limb_set]\n",
    "\n",
    "  joints = []\n",
    "  for limb in limbs:\n",
    "    joints += limb_joints[limb]\n",
    "\n",
    "  performances = []\n",
    "  for repeat in range(6):\n",
    "    limb_set_fit = testJointModel(joints=joints)\n",
    "    performances.append(limb_set_fit['performance'])\n",
    "    print(f\"performance: {limb_set_fit['performance']:.2f}%\")\n",
    "  \n",
    "  print(f\"median performance: {(np.median(performances)):.2f}%\")"
   ],
   "id": "_7O-VJcavoOE",
   "execution_count": 23,
   "outputs": [
    {
     "output_type": "stream",
     "text": [
      "\n",
      "*** FITTING: limbs only\n",
      "performance: 71.51%\n",
      "performance: 75.58%\n",
      "performance: 84.30%\n",
      "performance: 77.91%\n",
      "performance: 73.26%\n",
      "performance: 86.05%\n",
      "median performance: 76.74%\n",
      "\n",
      "*** FITTING: limbs+torso+head\n",
      "performance: 83.72%\n",
      "performance: 79.65%\n",
      "performance: 80.81%\n",
      "performance: 86.63%\n",
      "performance: 81.40%\n",
      "performance: 75.00%\n",
      "median performance: 81.10%\n"
     ],
     "name": "stdout"
    }
   ]
  },
  {
   "cell_type": "markdown",
   "metadata": {
    "id": "vhfVd16u_tar"
   },
   "source": [
    "The models are not converging, or perfect, but almost every time we run this cell the extra information from the torso and head do make the model perform a little better.\n",
    "\n",
    "It seems that our spine is pretty fundamental for movement!\n",
    "\n",
    "Maybe we should see how well we can do with a minimal number of joints measured. Can we go as low as 1 joint? For example, since we usually carry a phone in our pocket, the inertal motion units (IMU, i.e. accelerometers + gyroscopes) on a phone might be sufficient to get us some idea of movements people are making. We could test individual joints as well, or combinations of 2 or 3 joints.\n",
    "\n",
    "Of course, in real life people make many more types of movements, so we might need more joints or IMU's for decent classification. It will also be a problem to figure out when one movement type has ended and the next has begun."
   ],
   "id": "vhfVd16u_tar"
  },
  {
   "cell_type": "markdown",
   "metadata": {
    "id": "seven-single"
   },
   "source": [
    "---\n",
    "# Step 10: publication\n",
    "\n",
    "Let's write a simple abstract following the guidelines...\n",
    "\n",
    "**A. What is the phenomena**?  Here summarize the part of the phenomena which your modeling addresses.\n",
    "\n",
    "_Movement is well characterized by angular joint information._\n",
    "\n",
    "**B. What is the key scientific question?**:  Clearly articulate the question which your modeling tries to answer.\n",
    "\n",
    "_Here, we ask how many joints are needed to accurately classify movements, and which joints are the most informative for classification._\n",
    "\n",
    "**C. What was our hypothesis?**:  Explain the key relationships which we relied on to simulate the phenomena.\n",
    "\n",
    "_We hypothesized that limb motion was more informative than torso motion; and we hypothesized that right side limbs carry more information about movement types than left side limbs._\n",
    "\n",
    "**D. How did your modeling work?** Give an overview of the model, it's main components, and how the modeling works.  ''Here we ... ''\n",
    "\n",
    "_To investigate these hypotheses, we constructed a simple 1d convolutional neuroal network (CNN) and trained it on different subsets of the publicly available MoVi dataset._\n",
    "\n",
    "**E. What did you find? Did the modeling work?** Explain the key outcomes of your modeling evaluation. \n",
    "\n",
    "_Contrary to our expectations, we observed that the torso was more informative for classification then the rest of the joints. Furthermore the left limbs allowed for better classification than the right limbs._\n",
    "\n",
    "**F. What can you conclude?** Conclude as much as you can _with reference to the hypothesis_, within the limits of the modeling. \n",
    "\n",
    "_We conclude that while our model works to classify movements from subsets of joint rotations, the specific subsets of joints that were most informative were counter to our intuition._\n",
    "\n",
    "**G. What are the limitations and future directions?** What is left to be learned? Briefly argue the plausibility of the approach and/or what you think is essential that may have been left out.\n",
    "\n",
    "_Since our dataset contained limited number of movement types, generalization might be limited. Furthermore, our findings might be specific for our particular choice of model. Finally, classification of continuous movement presents an additional challenge since we used already segmented motion data here._\n",
    "\n",
    ">If we put this all in one paragraph, we have our final complete abstract. But, first, do not include the letters in _your_ abstract, and second, you might need to paraphrase the answers a little so they fit together.\n",
    "\n",
    "<br>\n",
    "\n",
    "**Abstract**\n",
    "\n",
    "(A) Movement is well characterized by angular joint information. \n",
    "(B) Here, we ask how many joints are needed to accurately classify movements, and which joints are the most informative for classification.\n",
    "(C) We hypothesized that limb motion was more informative than torso motion; and we hypothesized that right side limbs carry more information about movement types than left side limbs.\n",
    "(D) To investigate these hypotheses, we constructed a simple 1d convolutional neuroal network (CNN) and trained it on different subsets of the publicly available MoVi dataset.\n",
    "(E) Contrary to our expectations, we observed that the torso was more informative for classification then the rest of the joints. Furthermore the left limbs allowed for better classification than the right limbs.\n",
    "(F) We conclude that while our model works to classify movements from subsets of joint rotations, the specific subsets of joints that were most informative were counter to our intuition.\n",
    "(G) Since our dataset contained limited number of movement types, generalization might be limited. Furthermore, our findings might be specific for our particular choice of model. Finally, classification of continuous movement presents an additional challenge since we used already segmented motion data here."
   ],
   "id": "seven-single"
  }
 ]
}